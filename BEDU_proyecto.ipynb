{
  "nbformat": 4,
  "nbformat_minor": 0,
  "metadata": {
    "colab": {
      "provenance": [],
      "collapsed_sections": []
    },
    "kernelspec": {
      "name": "python3",
      "display_name": "Python 3"
    },
    "language_info": {
      "name": "python"
    }
  },
  "cells": [
    {
      "cell_type": "markdown",
      "source": [
        "##Investigación de la problemática y soluciones existentes"
      ],
      "metadata": {
        "id": "UbZcZIFdDrL5"
      }
    },
    {
      "cell_type": "markdown",
      "source": [
        "Platicando entre compañeros de equipo se llegó a la conclusión de que sería muy interesante analizar una problemática relacionada con el área de la salud, por lo que buscando problemáticas de salud a nivel mundial, nos encontramos con la malaria o paludismo.  \n",
        "“La malaria (o paludismo) es una enfermedad causada por un parásito Plasmodium, el cual es trasmitido por la picadura de un mosquito infectado. Los síntomas de esta enfermedad pueden incluir fiebre, vómito y/o dolor de cabeza. La forma clásica de manifestación en el organismo es \"fiebre, sudoración y escalofríos\" que aparecen 10 a 15 días después de la picadura del mosquito. Las muestras de sangre son examinadas con un microscopio para diagnosticar la malaria, en donde el parásito es detectado dentro de los glóbulos rojos. Las pruebas de diagnóstico rápido (RDTs) son usadas para diagnosticar la malaria en áreas remotas en donde el microscopio no puede ser utilizado” (extraído de https://www.paho.org/es/temas/malaria)  "
      ],
      "metadata": {
        "id": "-qT96qCuRwXF"
      }
    },
    {
      "cell_type": "markdown",
      "source": [
        "<img src=\"https://img.europapress.es/fotoweb/fotonoticia_20101008162508_1200.jpg\" width=25%>"
      ],
      "metadata": {
        "id": "NvJ3xxzOUuvK"
      }
    },
    {
      "cell_type": "markdown",
      "source": [
        "\n",
        "De igual manera los datos duros que mostramos a continuación nos hicieron empatizar en la importancia del análisis de esta problemática:  \n",
        "•\tLa malaria es una enfermedad potencialmente mortal causada por parásitos que se transmiten al ser humano por la picadura de mosquitos infectados.  \n",
        "•\tLa malaria mata un niño cada 2 minutos.  \n",
        "•\tEn el 2015 hubo 212 millones de casos de malaria causando cerca de 429,000 muertes, muchos de ellos niños africanos.  \n",
        "•\tEn las Américas, hubo 568.000 casos de malaria y cerca de 220 muertes fueron reportados en el 2016.  \n",
        "•\tLa malaria es prevenible y curable.  \n",
        "•\tAproximadamente la mitad de la población mundial corre el riesgo de contraer malaria, sobre todo los residentes en países de bajos ingresos. En las Américas, se considera que 132 millones de personas viven en áreas de riesgo de contraer malaria.  \n",
        "•\tSon especialmente vulnerables quienes viajan de zonas libres de malaria a zonas donde la enfermedad es frecuente.  \n",
        "•\tLa malaria supone una importante carga económica, pudiendo llegar a reducir en un 1,3% las tasas de crecimiento económico de países donde la enfermedad es frecuente. (datos extraídos de https://www.paho.org/es/temas/malaria)  \n",
        "\n",
        "La malaria se da actualmente en 85 países de 5 regiones de la OMS. A pesar de esto, lo que nos llamó la atención es que la región europea está libre de esta enfermedad desde el 2015.  \n",
        "Asimismo, otra cosa que nos llamó la atención es que según comunica el Informe Mundial sobre la Malaria 2020, hubo 241 millones de casos de malaria en todo el mundo en 2020 (rango de incertidumbre 218-269 millones) y 627 000 muertes por malaria (rango de incertidumbre 583-765 mil). Además, se informa que la incidencia de casos de malaria se redujo de 81 en 2000 a 59 en 2015 y 56 en 2019, antes de aumentar nuevamente a 59 en 2020. A nivel mundial, las muertes por malaria se redujeron constantemente durante el período 2000-2019, de 896 000 en el año 2000 a 562 000 en 2015 y a 558 000 en 2019. En 2020, las muertes por malaria aumentaron en un 12% en comparación con 2019. Los aumentos en los casos de malaria son muertes asociadas con la interrupción de los servicios durante la pandemia de COVID-19.  \n",
        "La carga de paludismo fue mayor en la Región de África de la OMS, con un aumento estimado del 95% de los casos y el 96% de las muertes; el 80% de todas las muertes en esta región se producen entre niños menores de 5 años. (extraído de https://www.who.int/data/gho/data/themes/malaria)  "
      ],
      "metadata": {
        "id": "g7Xep7qzUw2M"
      }
    },
    {
      "cell_type": "markdown",
      "source": [
        "<img src=\"https://www.passporthealthglobal.com/wp-content/uploads/2018/07/malaria-mapa.jpg\" width=75%>"
      ],
      "metadata": {
        "id": "keiiskQpU8Vd"
      }
    },
    {
      "cell_type": "markdown",
      "source": [
        "Es debido a lo anterior que escogimos esta problemática.  \n",
        "De igual manera, se encontró que ya existen programas de apoyo para tratar de solucionar esta problemática, como lo es el Programa Mundial contra el Paludismo (GMP) de la OMS, que es responsable de gestionar los esfuerzos mundiales de la OMS para controlar y erradicarla malaria. El trabajo que realiza este programa se rige por la \"Estrategia técnica mundial para la malaria 2016-2030\" adoptada por la Asamblea Mundial de la Salud en mayo de 2015 y actualizada en 2021.  \n",
        "Nuestro enfoque no es resolver la malaria como enfermedad y problemática mundial, sino más bien entender cómo se ha desarrollado esta problemática y en particular durante los últimos años.  \n",
        "Referencias de investigaciones recientes de la malaria: \n",
        "-\thttps://cdn.who.int/media/docs/default-source/malaria/world-malaria-reports/world-malaria-report-2021-global-briefing-kit-spa.pdf?sfvrsn=8e5e915_23&download=true\n",
        "-\thttps://www.isglobal.org/-/malaria-investigacion-con-impacto-en-tiempos-de-covid-19\n"
      ],
      "metadata": {
        "id": "KX-m2VlgU-x4"
      }
    },
    {
      "cell_type": "markdown",
      "source": [
        "##Planteamiento de preguntas"
      ],
      "metadata": {
        "id": "Ndbyr7tgDrL6"
      }
    },
    {
      "cell_type": "markdown",
      "source": [
        "A continuacion, presentamos una serie de preguntas clave que nos ayudan a encaminar de manera correcta la investigación con los datos recabados."
      ],
      "metadata": {
        "id": "CGZ23qDGVIkf"
      }
    },
    {
      "cell_type": "markdown",
      "source": [
        "1.\t¿Cuáles son los países dónde se han presentado mayor número casos de malaria?\n",
        "2.\t¿Cuáles son los países dónde se han presentado menor número casos de malaria?\n",
        "3.\t¿En qué países la malaria ha ocasionado mayor número de muertes respecto a la cantidad de infectados?\n",
        "4.\t¿En qué países la malaria ha ocasionado menor número de muertes respecto a la cantidad de infectados?\n",
        "5.\t¿En qué países había mayor tasa de tratamiento en 2020?\n",
        "6.\t¿En qué países había menor tasa de tratamiento en 2020?\n",
        "7.\t¿En qué países ha aumentado el número de tratamientos del 2018 al 2020?\n",
        "8.\t¿En qué países ha disminuido el número de tratamientos del 2018 al 2020?\n",
        "9.\t¿En qué países el número de casos ha disminuido a través de los años? \n",
        "10.\t¿En qué países el número de muertes ha disminuido a través de los años? "
      ],
      "metadata": {
        "id": "amdId3kdDrL6"
      }
    },
    {
      "cell_type": "markdown",
      "source": [
        "##Recolección de datos"
      ],
      "metadata": {
        "id": "s-7rzTNUDrL7"
      }
    },
    {
      "cell_type": "markdown",
      "source": [
        "Se buscaron los datos en muchas plataformas como Kaggle y Academic Torrents pero no pudimos encontrar exactamente lo que buscabamos. Por esto mismo, comenzamos a buscar con organizaciones que son expertas en el tema en cuestion.\n",
        "\n",
        "Obtuvimos los datos de la página de las bases de datos Global Health Observatory de la organización World Health Organization.\n",
        "\n",
        "https://www.who.int/data/gho"
      ],
      "metadata": {
        "id": "JtvaNrBxDrL7"
      }
    },
    {
      "cell_type": "markdown",
      "source": [
        "<img src=\"https://images.squarespace-cdn.com/content/v1/54d50ceee4b05797b34869cf/1496775391944-BCCH3FAYYAFK85YSOAY6/image-asset.jpeg\" width=25%>"
      ],
      "metadata": {
        "id": "EQEcH8rU1Hpd"
      }
    },
    {
      "cell_type": "markdown",
      "source": [
        "## Lectura y creación del dataset"
      ],
      "metadata": {
        "id": "qEZZLMuP2pB8"
      }
    },
    {
      "cell_type": "markdown",
      "source": [
        "Ya con toda la informacion que necesitamos sobre la problematica, empezarémos a procesar los datos.  \n",
        "\n",
        "Para poder importar, procesar, analizar, transformar y modificar nuestros datos, vamos a utilizar las siguientes librerias:  \n",
        "\n",
        "- Pandas: Esta biblioteca nos ayuda a leer nuestros datos, al igual que modificar nuestros datos a traves de un data-frame para manipularlos y analizarlos. Para más información haz click [aquí](https://pandas.pydata.org/).\n",
        "- Numpy: Esta biblioteca nos brinda diferentes herramientas matemáticas vectorizadas para acelerar nuestros cálculos. Para más información haz click [aquí](https://numpy.org/)."
      ],
      "metadata": {
        "id": "WKrujolkZj_u"
      }
    },
    {
      "cell_type": "markdown",
      "source": [
        "![logos.png](data:image/png;base64,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)"
      ],
      "metadata": {
        "id": "PrdLrxDS2EQl"
      }
    },
    {
      "cell_type": "code",
      "source": [
        "import pandas as pd\n",
        "import numpy as np\n",
        "import requests"
      ],
      "metadata": {
        "id": "fGnJzXdReXKk"
      },
      "execution_count": null,
      "outputs": []
    },
    {
      "cell_type": "markdown",
      "source": [
        "Para no tener problemas de importacion y sobre direcciones locales para buscar los archivos, asi como automatizar mejor este proceso, vamos a utilizar **API's** de la Organizacion Mundial de la Salud para poder obtener estos datos."
      ],
      "metadata": {
        "id": "uo1MR9HS2qSr"
      }
    },
    {
      "cell_type": "markdown",
      "source": [
        "Primero obtenemos codigos del API para poder obtener los datos:  "
      ],
      "metadata": {
        "id": "jUbvM9B93fyS"
      }
    },
    {
      "cell_type": "code",
      "source": [
        "# Arreglo de endpoints para ciclarlo\n",
        "endpoints = [\n",
        "    \"https://ghoapi.azureedge.net/api/Indicator?$filter=contains(IndicatorName,'Number of presumed malaria cases')\",\n",
        "    \"https://ghoapi.azureedge.net/api/Indicator?$filter=contains(IndicatorName,'Number of confirmed malaria cases')\",\n",
        "    \"https://ghoapi.azureedge.net/api/Indicator?$filter=contains(IndicatorName,'Estimated number of malaria deaths')\",\n",
        "    \"https://ghoapi.azureedge.net/api/Indicator?$filter=contains(IndicatorName,'Estimated malaria mortality rate')\",\n",
        "    \"https://ghoapi.azureedge.net/api/Indicator?$filter=contains(IndicatorName,'Number of malaria cases treated with any first')\",\n",
        "    ]\n",
        "\n",
        "indicator_codes = []\n",
        "\n",
        "# Obtencion de codigos\n",
        "for endpoint in endpoints:\n",
        "  try:\n",
        "    r = requests.get(endpoint)\n",
        "    if r.status_code == 200:\n",
        "      json = r.json()\n",
        "      normalized = pd.json_normalize(json[\"value\"])\n",
        "      df = pd.DataFrame.from_dict(normalized)\n",
        "      indicator_codes.append(df[\"IndicatorCode\"].values[0])\n",
        "  except:\n",
        "    print(\"Error at \", endpoint)"
      ],
      "metadata": {
        "id": "RDZ9QdRuYXZg"
      },
      "execution_count": null,
      "outputs": []
    },
    {
      "cell_type": "markdown",
      "source": [
        "Ahora actualizamos el arreglo de endpoints para poder obtener los datos."
      ],
      "metadata": {
        "id": "KPcyu58u3xW3"
      }
    },
    {
      "cell_type": "code",
      "source": [
        "endpoints = []\n",
        "base = \"https://ghoapi.azureedge.net/api/\"\n",
        "\n",
        "# Actualizacion de endpoints\n",
        "for code in indicator_codes:\n",
        "  endpoints.append(base + code)\n"
      ],
      "metadata": {
        "id": "iVQHFRx_Wip_"
      },
      "execution_count": null,
      "outputs": []
    },
    {
      "cell_type": "markdown",
      "source": [
        "Ahora obtenemos nuestros data-sets crudos"
      ],
      "metadata": {
        "id": "wNk9LLn04Tdz"
      }
    },
    {
      "cell_type": "code",
      "source": [
        "dataframes = []\n",
        "\n",
        "# Obtencion de data-sets\n",
        "for endpoint in endpoints:\n",
        "  try:\n",
        "    r = requests.get(endpoint)\n",
        "    if r.status_code == 200:\n",
        "      json = r.json()\n",
        "      normalized = pd.json_normalize(json[\"value\"])\n",
        "      df = pd.DataFrame.from_dict(normalized)\n",
        "      dataframes.append(df)\n",
        "  except:\n",
        "    print(\"Error at \", endpoint)"
      ],
      "metadata": {
        "id": "RkXY3klxcZsL"
      },
      "execution_count": null,
      "outputs": []
    },
    {
      "cell_type": "markdown",
      "source": [
        "Como este data-set ya fue analizado anteriormente, sabemos que tenemos que filtrar columnas para obtener los datos que queremos de cada data-set.\n",
        "\n",
        "Asimismo, queremos los datos solamente de los países y no de regiones o continentes."
      ],
      "metadata": {
        "id": "GqZXrZsi4bES"
      }
    },
    {
      "cell_type": "code",
      "source": [
        "# Nombres de las columnas actualizadas\n",
        "column_names = [\"presumed_cases\", \"confirmed_cases\", \"estimated_deaths\", \"mortality_rate\", \"treated_cases\"]\n",
        "\n",
        "# Filtro de los data-sets y actualizacion de los nombres de las columnas\n",
        "for i in range(len(dataframes)):\n",
        "  df = dataframes[i].copy()\n",
        "  df = df[[\"SpatialDimType\", \"SpatialDim\", \"TimeDim\", \"Value\"]]\n",
        "  df = df.rename({\"SpatialDimType\": \"type_region\", \"SpatialDim\": \"country\", \"TimeDim\": \"year\", \"Value\": column_names[i]}, axis=1)\n",
        "  df = df[df[\"type_region\"] == \"COUNTRY\"]\n",
        "  df.drop(columns=[\"type_region\"], axis=1, inplace=True)\n",
        "  dataframes[i] = df"
      ],
      "metadata": {
        "id": "_q6GIosrcux7"
      },
      "execution_count": null,
      "outputs": []
    },
    {
      "cell_type": "markdown",
      "source": [
        "Con nuestros data-sets filtrados, lo unico que nos falta es juntarlos en un solo data-set para no tener que andar saltando entre todos. Esto se hara un con `merge` que nos deja juntar data-sets con respecto a la igualdad de una columna."
      ],
      "metadata": {
        "id": "ntv_dTL142Be"
      }
    },
    {
      "cell_type": "code",
      "source": [
        "df = dataframes[0]\n",
        "\n",
        "# Merge de los data-sets\n",
        "for i in range(1, len(dataframes)):\n",
        "  df = pd.merge(df, dataframes[i], how=\"outer\", on=[\"country\", \"year\"])"
      ],
      "metadata": {
        "id": "RR0OSJWasnSk"
      },
      "execution_count": null,
      "outputs": []
    },
    {
      "cell_type": "markdown",
      "source": [
        "Ahora vamos a ordenar nuestro data-set por pais y luego por año."
      ],
      "metadata": {
        "id": "BKLh_GFu5QVl"
      }
    },
    {
      "cell_type": "code",
      "source": [
        "# Ordenamiento\n",
        "df = df.sort_values([\"country\", \"year\"])"
      ],
      "metadata": {
        "id": "VrU_uuMvXZr2"
      },
      "execution_count": null,
      "outputs": []
    },
    {
      "cell_type": "markdown",
      "source": [
        "En el dataset los casos tratados solamente comenzaron a ser reportados a partir del 2018. Por lo que los datos de años anteriores no son relevantes para el análisis que buscamos realizar y solo consideraremos los datos desde el 2018 en adelante."
      ],
      "metadata": {
        "id": "BCueIuHRinFx"
      }
    },
    {
      "cell_type": "code",
      "source": [
        "df = df[df[\"year\"] >= 2018]"
      ],
      "metadata": {
        "id": "9LBGaUBvi09z"
      },
      "execution_count": null,
      "outputs": []
    },
    {
      "cell_type": "markdown",
      "source": [
        "Por ultimo se reestablece el índice para que no haya \"saltos\" de filas"
      ],
      "metadata": {
        "id": "pmu1ffeedP-f"
      }
    },
    {
      "cell_type": "code",
      "source": [
        "# Restableciendo indices\n",
        "df = df.reset_index(drop=True)"
      ],
      "metadata": {
        "id": "2Cklr7DQdORD"
      },
      "execution_count": null,
      "outputs": []
    },
    {
      "cell_type": "markdown",
      "source": [
        "Ahora echemos un vistazo al data-set resultante"
      ],
      "metadata": {
        "id": "GZdmS-JX5k_M"
      }
    },
    {
      "cell_type": "code",
      "source": [
        "df.head()"
      ],
      "metadata": {
        "colab": {
          "base_uri": "https://localhost:8080/",
          "height": 206
        },
        "id": "jz15QbVEu582",
        "outputId": "c5257183-8629-4902-b6c4-1cd216259814"
      },
      "execution_count": null,
      "outputs": [
        {
          "output_type": "execute_result",
          "data": {
            "text/plain": [
              "  country  year presumed_cases confirmed_cases         estimated_deaths  \\\n",
              "0     AFG  2018         51 174         248 689          292 [ 110- 500]   \n",
              "1     AFG  2019          1 034         173 860           170 [ 65- 300]   \n",
              "2     AFG  2020            150         105 295           110 [ 41- 190]   \n",
              "3     AGO  2018        777 685       5 150 575  13 489 [ 9 390- 20 000]   \n",
              "4     AGO  2019        475 810       7 054 978  13 622 [ 9 440- 20 500]   \n",
              "\n",
              "     mortality_rate treated_cases  \n",
              "0     1.0 [0.4-1.8]        31 114  \n",
              "1     0.6 [0.2-1.0]       169 504  \n",
              "2     0.4 [0.1-0.6]       103 466  \n",
              "3  43.8 [30.5-64.9]     6 092 332  \n",
              "4  42.8 [29.7-64.4]     5 575 259  "
            ],
            "text/html": [
              "\n",
              "  <div id=\"df-94e1bead-056b-4ec3-b3f1-f332d029573f\">\n",
              "    <div class=\"colab-df-container\">\n",
              "      <div>\n",
              "<style scoped>\n",
              "    .dataframe tbody tr th:only-of-type {\n",
              "        vertical-align: middle;\n",
              "    }\n",
              "\n",
              "    .dataframe tbody tr th {\n",
              "        vertical-align: top;\n",
              "    }\n",
              "\n",
              "    .dataframe thead th {\n",
              "        text-align: right;\n",
              "    }\n",
              "</style>\n",
              "<table border=\"1\" class=\"dataframe\">\n",
              "  <thead>\n",
              "    <tr style=\"text-align: right;\">\n",
              "      <th></th>\n",
              "      <th>country</th>\n",
              "      <th>year</th>\n",
              "      <th>presumed_cases</th>\n",
              "      <th>confirmed_cases</th>\n",
              "      <th>estimated_deaths</th>\n",
              "      <th>mortality_rate</th>\n",
              "      <th>treated_cases</th>\n",
              "    </tr>\n",
              "  </thead>\n",
              "  <tbody>\n",
              "    <tr>\n",
              "      <th>0</th>\n",
              "      <td>AFG</td>\n",
              "      <td>2018</td>\n",
              "      <td>51 174</td>\n",
              "      <td>248 689</td>\n",
              "      <td>292 [ 110- 500]</td>\n",
              "      <td>1.0 [0.4-1.8]</td>\n",
              "      <td>31 114</td>\n",
              "    </tr>\n",
              "    <tr>\n",
              "      <th>1</th>\n",
              "      <td>AFG</td>\n",
              "      <td>2019</td>\n",
              "      <td>1 034</td>\n",
              "      <td>173 860</td>\n",
              "      <td>170 [ 65- 300]</td>\n",
              "      <td>0.6 [0.2-1.0]</td>\n",
              "      <td>169 504</td>\n",
              "    </tr>\n",
              "    <tr>\n",
              "      <th>2</th>\n",
              "      <td>AFG</td>\n",
              "      <td>2020</td>\n",
              "      <td>150</td>\n",
              "      <td>105 295</td>\n",
              "      <td>110 [ 41- 190]</td>\n",
              "      <td>0.4 [0.1-0.6]</td>\n",
              "      <td>103 466</td>\n",
              "    </tr>\n",
              "    <tr>\n",
              "      <th>3</th>\n",
              "      <td>AGO</td>\n",
              "      <td>2018</td>\n",
              "      <td>777 685</td>\n",
              "      <td>5 150 575</td>\n",
              "      <td>13 489 [ 9 390- 20 000]</td>\n",
              "      <td>43.8 [30.5-64.9]</td>\n",
              "      <td>6 092 332</td>\n",
              "    </tr>\n",
              "    <tr>\n",
              "      <th>4</th>\n",
              "      <td>AGO</td>\n",
              "      <td>2019</td>\n",
              "      <td>475 810</td>\n",
              "      <td>7 054 978</td>\n",
              "      <td>13 622 [ 9 440- 20 500]</td>\n",
              "      <td>42.8 [29.7-64.4]</td>\n",
              "      <td>5 575 259</td>\n",
              "    </tr>\n",
              "  </tbody>\n",
              "</table>\n",
              "</div>\n",
              "      <button class=\"colab-df-convert\" onclick=\"convertToInteractive('df-94e1bead-056b-4ec3-b3f1-f332d029573f')\"\n",
              "              title=\"Convert this dataframe to an interactive table.\"\n",
              "              style=\"display:none;\">\n",
              "        \n",
              "  <svg xmlns=\"http://www.w3.org/2000/svg\" height=\"24px\"viewBox=\"0 0 24 24\"\n",
              "       width=\"24px\">\n",
              "    <path d=\"M0 0h24v24H0V0z\" fill=\"none\"/>\n",
              "    <path d=\"M18.56 5.44l.94 2.06.94-2.06 2.06-.94-2.06-.94-.94-2.06-.94 2.06-2.06.94zm-11 1L8.5 8.5l.94-2.06 2.06-.94-2.06-.94L8.5 2.5l-.94 2.06-2.06.94zm10 10l.94 2.06.94-2.06 2.06-.94-2.06-.94-.94-2.06-.94 2.06-2.06.94z\"/><path d=\"M17.41 7.96l-1.37-1.37c-.4-.4-.92-.59-1.43-.59-.52 0-1.04.2-1.43.59L10.3 9.45l-7.72 7.72c-.78.78-.78 2.05 0 2.83L4 21.41c.39.39.9.59 1.41.59.51 0 1.02-.2 1.41-.59l7.78-7.78 2.81-2.81c.8-.78.8-2.07 0-2.86zM5.41 20L4 18.59l7.72-7.72 1.47 1.35L5.41 20z\"/>\n",
              "  </svg>\n",
              "      </button>\n",
              "      \n",
              "  <style>\n",
              "    .colab-df-container {\n",
              "      display:flex;\n",
              "      flex-wrap:wrap;\n",
              "      gap: 12px;\n",
              "    }\n",
              "\n",
              "    .colab-df-convert {\n",
              "      background-color: #E8F0FE;\n",
              "      border: none;\n",
              "      border-radius: 50%;\n",
              "      cursor: pointer;\n",
              "      display: none;\n",
              "      fill: #1967D2;\n",
              "      height: 32px;\n",
              "      padding: 0 0 0 0;\n",
              "      width: 32px;\n",
              "    }\n",
              "\n",
              "    .colab-df-convert:hover {\n",
              "      background-color: #E2EBFA;\n",
              "      box-shadow: 0px 1px 2px rgba(60, 64, 67, 0.3), 0px 1px 3px 1px rgba(60, 64, 67, 0.15);\n",
              "      fill: #174EA6;\n",
              "    }\n",
              "\n",
              "    [theme=dark] .colab-df-convert {\n",
              "      background-color: #3B4455;\n",
              "      fill: #D2E3FC;\n",
              "    }\n",
              "\n",
              "    [theme=dark] .colab-df-convert:hover {\n",
              "      background-color: #434B5C;\n",
              "      box-shadow: 0px 1px 3px 1px rgba(0, 0, 0, 0.15);\n",
              "      filter: drop-shadow(0px 1px 2px rgba(0, 0, 0, 0.3));\n",
              "      fill: #FFFFFF;\n",
              "    }\n",
              "  </style>\n",
              "\n",
              "      <script>\n",
              "        const buttonEl =\n",
              "          document.querySelector('#df-94e1bead-056b-4ec3-b3f1-f332d029573f button.colab-df-convert');\n",
              "        buttonEl.style.display =\n",
              "          google.colab.kernel.accessAllowed ? 'block' : 'none';\n",
              "\n",
              "        async function convertToInteractive(key) {\n",
              "          const element = document.querySelector('#df-94e1bead-056b-4ec3-b3f1-f332d029573f');\n",
              "          const dataTable =\n",
              "            await google.colab.kernel.invokeFunction('convertToInteractive',\n",
              "                                                     [key], {});\n",
              "          if (!dataTable) return;\n",
              "\n",
              "          const docLinkHtml = 'Like what you see? Visit the ' +\n",
              "            '<a target=\"_blank\" href=https://colab.research.google.com/notebooks/data_table.ipynb>data table notebook</a>'\n",
              "            + ' to learn more about interactive tables.';\n",
              "          element.innerHTML = '';\n",
              "          dataTable['output_type'] = 'display_data';\n",
              "          await google.colab.output.renderOutput(dataTable, element);\n",
              "          const docLink = document.createElement('div');\n",
              "          docLink.innerHTML = docLinkHtml;\n",
              "          element.appendChild(docLink);\n",
              "        }\n",
              "      </script>\n",
              "    </div>\n",
              "  </div>\n",
              "  "
            ]
          },
          "metadata": {},
          "execution_count": 139
        }
      ]
    },
    {
      "cell_type": "markdown",
      "source": [
        "## Análisis exploratorio\n",
        "\n",
        "Una vez unidas los datasets tenemos un conjunto de datos que realmente nos permite responder las preguntas planteadas. Este muestra para cada país los casos estimados, casos confirmados, muertes estimadas, tasa de mortalidad y casos tratados, entre el 2018 y el 2020. "
      ],
      "metadata": {
        "id": "z6np3QAKcD1a"
      }
    },
    {
      "cell_type": "markdown",
      "source": [
        "Calculamos el tamaño del dataset"
      ],
      "metadata": {
        "id": "guR7s7l9czhE"
      }
    },
    {
      "cell_type": "code",
      "source": [
        "df.shape"
      ],
      "metadata": {
        "colab": {
          "base_uri": "https://localhost:8080/"
        },
        "id": "8bwLqOiNc-qr",
        "outputId": "64971401-16ba-4cfe-bb25-d467f44b5d6f"
      },
      "execution_count": null,
      "outputs": [
        {
          "output_type": "execute_result",
          "data": {
            "text/plain": [
              "(418, 7)"
            ]
          },
          "metadata": {},
          "execution_count": 140
        }
      ]
    },
    {
      "cell_type": "markdown",
      "source": [
        "Contamos la cantidad de valores para cada país"
      ],
      "metadata": {
        "id": "CeRkVDvTed5z"
      }
    },
    {
      "cell_type": "code",
      "source": [
        "df[\"country\"].value_counts()"
      ],
      "metadata": {
        "colab": {
          "base_uri": "https://localhost:8080/"
        },
        "id": "yqhyg7lBd3mW",
        "outputId": "9b6bf12f-d06e-48e8-fdaa-e111e22d9110"
      },
      "execution_count": null,
      "outputs": [
        {
          "output_type": "execute_result",
          "data": {
            "text/plain": [
              "EGY    4\n",
              "TKM    4\n",
              "OMN    4\n",
              "MAR    4\n",
              "ARE    4\n",
              "      ..\n",
              "MHL    1\n",
              "MDV    1\n",
              "ESP    1\n",
              "MDA    1\n",
              "LBN    1\n",
              "Name: country, Length: 194, dtype: int64"
            ]
          },
          "metadata": {},
          "execution_count": 141
        }
      ]
    },
    {
      "cell_type": "markdown",
      "source": [
        "Contamos la cantidad de valores por año"
      ],
      "metadata": {
        "id": "MuJbX9EMelpH"
      }
    },
    {
      "cell_type": "code",
      "source": [
        "df[\"year\"].value_counts()"
      ],
      "metadata": {
        "colab": {
          "base_uri": "https://localhost:8080/"
        },
        "id": "DLJ8bzCfeZhk",
        "outputId": "5fc014d0-2580-4244-93e2-0170d541a5e6"
      },
      "execution_count": null,
      "outputs": [
        {
          "output_type": "execute_result",
          "data": {
            "text/plain": [
              "2020    204\n",
              "2018    107\n",
              "2019    107\n",
              "Name: year, dtype: int64"
            ]
          },
          "metadata": {},
          "execution_count": 142
        }
      ]
    },
    {
      "cell_type": "markdown",
      "source": [
        "El dataset tiene 418 filas y 7 columnas. Se cuenta con datos de 194 países distintos. Para algunos se cuenta con el registro de 2018 a 2020, para otros solamente se cuentan con registros de menos años, siendo en 2020 donde se presentan más registros. Sin embargo, aparentan ser datos suficientes."
      ],
      "metadata": {
        "id": "s01U8hmGdDW8"
      }
    },
    {
      "cell_type": "markdown",
      "source": [
        "Mostramos los nombres de las columnas"
      ],
      "metadata": {
        "id": "eFtm7Usce0hr"
      }
    },
    {
      "cell_type": "code",
      "source": [
        "df.columns"
      ],
      "metadata": {
        "colab": {
          "base_uri": "https://localhost:8080/"
        },
        "id": "14jC9U7We5_6",
        "outputId": "a717d8fe-1a1e-4f7f-f87c-7cce47b54b23"
      },
      "execution_count": null,
      "outputs": [
        {
          "output_type": "execute_result",
          "data": {
            "text/plain": [
              "Index(['country', 'year', 'presumed_cases', 'confirmed_cases',\n",
              "       'estimated_deaths', 'mortality_rate', 'treated_cases'],\n",
              "      dtype='object')"
            ]
          },
          "metadata": {},
          "execution_count": 143
        }
      ]
    },
    {
      "cell_type": "markdown",
      "source": [
        "Tenemos las columnas\n",
        "- country: País\n",
        "- year: Año\n",
        "- presumed_cases: Número presumido de casos de malaria\n",
        "- confirmed_cases: Número confirmado de casos de malaria\n",
        "- estimated_deaths: Número estimado de muertes por malaria\n",
        "- mortality_rate: Tasa de mortalidad por malaria\n",
        "- treated_cases: Número de casos tratados con cualquier curso de tratamiento de primera línea, incluyendo terapias combinadas a base de artemisina (ACT)\n",
        "\n",
        "Los nombres son apropiados, ya que ya se renombraron los datasets originales al crear el dataset que utilizaremos."
      ],
      "metadata": {
        "id": "yvJdmkjcflC1"
      }
    },
    {
      "cell_type": "markdown",
      "source": [
        "Mostramos los tipos de cada columna"
      ],
      "metadata": {
        "id": "BAgb7mP5fgOk"
      }
    },
    {
      "cell_type": "code",
      "source": [
        "df.dtypes"
      ],
      "metadata": {
        "colab": {
          "base_uri": "https://localhost:8080/"
        },
        "id": "9owMB1hEfh7r",
        "outputId": "0d8e1a23-3a00-4f63-b292-9d8e7886a9e9"
      },
      "execution_count": null,
      "outputs": [
        {
          "output_type": "execute_result",
          "data": {
            "text/plain": [
              "country             object\n",
              "year                 int64\n",
              "presumed_cases      object\n",
              "confirmed_cases     object\n",
              "estimated_deaths    object\n",
              "mortality_rate      object\n",
              "treated_cases       object\n",
              "dtype: object"
            ]
          },
          "metadata": {},
          "execution_count": 144
        }
      ]
    },
    {
      "cell_type": "markdown",
      "source": [
        "Los campos *country* y *year* tienen el tipo indicado, *object* e *int64* respectivamente. Las demás variables deberian ser numéricas, enteros para los casos presumidos y confirmados, muertes y casos tratados; así como *float* para la tasa de mortalidad."
      ],
      "metadata": {
        "id": "FN-lMTHgrIzj"
      }
    },
    {
      "cell_type": "code",
      "source": [
        "df.head()"
      ],
      "metadata": {
        "colab": {
          "base_uri": "https://localhost:8080/",
          "height": 206
        },
        "id": "hPHiUTtAsYop",
        "outputId": "d34f4068-d2b6-4510-e0fb-399e068c396c"
      },
      "execution_count": null,
      "outputs": [
        {
          "output_type": "execute_result",
          "data": {
            "text/plain": [
              "  country  year presumed_cases confirmed_cases         estimated_deaths  \\\n",
              "0     AFG  2018         51 174         248 689          292 [ 110- 500]   \n",
              "1     AFG  2019          1 034         173 860           170 [ 65- 300]   \n",
              "2     AFG  2020            150         105 295           110 [ 41- 190]   \n",
              "3     AGO  2018        777 685       5 150 575  13 489 [ 9 390- 20 000]   \n",
              "4     AGO  2019        475 810       7 054 978  13 622 [ 9 440- 20 500]   \n",
              "\n",
              "     mortality_rate treated_cases  \n",
              "0     1.0 [0.4-1.8]        31 114  \n",
              "1     0.6 [0.2-1.0]       169 504  \n",
              "2     0.4 [0.1-0.6]       103 466  \n",
              "3  43.8 [30.5-64.9]     6 092 332  \n",
              "4  42.8 [29.7-64.4]     5 575 259  "
            ],
            "text/html": [
              "\n",
              "  <div id=\"df-5d6400f7-5b22-4969-ade4-7287cf39a28f\">\n",
              "    <div class=\"colab-df-container\">\n",
              "      <div>\n",
              "<style scoped>\n",
              "    .dataframe tbody tr th:only-of-type {\n",
              "        vertical-align: middle;\n",
              "    }\n",
              "\n",
              "    .dataframe tbody tr th {\n",
              "        vertical-align: top;\n",
              "    }\n",
              "\n",
              "    .dataframe thead th {\n",
              "        text-align: right;\n",
              "    }\n",
              "</style>\n",
              "<table border=\"1\" class=\"dataframe\">\n",
              "  <thead>\n",
              "    <tr style=\"text-align: right;\">\n",
              "      <th></th>\n",
              "      <th>country</th>\n",
              "      <th>year</th>\n",
              "      <th>presumed_cases</th>\n",
              "      <th>confirmed_cases</th>\n",
              "      <th>estimated_deaths</th>\n",
              "      <th>mortality_rate</th>\n",
              "      <th>treated_cases</th>\n",
              "    </tr>\n",
              "  </thead>\n",
              "  <tbody>\n",
              "    <tr>\n",
              "      <th>0</th>\n",
              "      <td>AFG</td>\n",
              "      <td>2018</td>\n",
              "      <td>51 174</td>\n",
              "      <td>248 689</td>\n",
              "      <td>292 [ 110- 500]</td>\n",
              "      <td>1.0 [0.4-1.8]</td>\n",
              "      <td>31 114</td>\n",
              "    </tr>\n",
              "    <tr>\n",
              "      <th>1</th>\n",
              "      <td>AFG</td>\n",
              "      <td>2019</td>\n",
              "      <td>1 034</td>\n",
              "      <td>173 860</td>\n",
              "      <td>170 [ 65- 300]</td>\n",
              "      <td>0.6 [0.2-1.0]</td>\n",
              "      <td>169 504</td>\n",
              "    </tr>\n",
              "    <tr>\n",
              "      <th>2</th>\n",
              "      <td>AFG</td>\n",
              "      <td>2020</td>\n",
              "      <td>150</td>\n",
              "      <td>105 295</td>\n",
              "      <td>110 [ 41- 190]</td>\n",
              "      <td>0.4 [0.1-0.6]</td>\n",
              "      <td>103 466</td>\n",
              "    </tr>\n",
              "    <tr>\n",
              "      <th>3</th>\n",
              "      <td>AGO</td>\n",
              "      <td>2018</td>\n",
              "      <td>777 685</td>\n",
              "      <td>5 150 575</td>\n",
              "      <td>13 489 [ 9 390- 20 000]</td>\n",
              "      <td>43.8 [30.5-64.9]</td>\n",
              "      <td>6 092 332</td>\n",
              "    </tr>\n",
              "    <tr>\n",
              "      <th>4</th>\n",
              "      <td>AGO</td>\n",
              "      <td>2019</td>\n",
              "      <td>475 810</td>\n",
              "      <td>7 054 978</td>\n",
              "      <td>13 622 [ 9 440- 20 500]</td>\n",
              "      <td>42.8 [29.7-64.4]</td>\n",
              "      <td>5 575 259</td>\n",
              "    </tr>\n",
              "  </tbody>\n",
              "</table>\n",
              "</div>\n",
              "      <button class=\"colab-df-convert\" onclick=\"convertToInteractive('df-5d6400f7-5b22-4969-ade4-7287cf39a28f')\"\n",
              "              title=\"Convert this dataframe to an interactive table.\"\n",
              "              style=\"display:none;\">\n",
              "        \n",
              "  <svg xmlns=\"http://www.w3.org/2000/svg\" height=\"24px\"viewBox=\"0 0 24 24\"\n",
              "       width=\"24px\">\n",
              "    <path d=\"M0 0h24v24H0V0z\" fill=\"none\"/>\n",
              "    <path d=\"M18.56 5.44l.94 2.06.94-2.06 2.06-.94-2.06-.94-.94-2.06-.94 2.06-2.06.94zm-11 1L8.5 8.5l.94-2.06 2.06-.94-2.06-.94L8.5 2.5l-.94 2.06-2.06.94zm10 10l.94 2.06.94-2.06 2.06-.94-2.06-.94-.94-2.06-.94 2.06-2.06.94z\"/><path d=\"M17.41 7.96l-1.37-1.37c-.4-.4-.92-.59-1.43-.59-.52 0-1.04.2-1.43.59L10.3 9.45l-7.72 7.72c-.78.78-.78 2.05 0 2.83L4 21.41c.39.39.9.59 1.41.59.51 0 1.02-.2 1.41-.59l7.78-7.78 2.81-2.81c.8-.78.8-2.07 0-2.86zM5.41 20L4 18.59l7.72-7.72 1.47 1.35L5.41 20z\"/>\n",
              "  </svg>\n",
              "      </button>\n",
              "      \n",
              "  <style>\n",
              "    .colab-df-container {\n",
              "      display:flex;\n",
              "      flex-wrap:wrap;\n",
              "      gap: 12px;\n",
              "    }\n",
              "\n",
              "    .colab-df-convert {\n",
              "      background-color: #E8F0FE;\n",
              "      border: none;\n",
              "      border-radius: 50%;\n",
              "      cursor: pointer;\n",
              "      display: none;\n",
              "      fill: #1967D2;\n",
              "      height: 32px;\n",
              "      padding: 0 0 0 0;\n",
              "      width: 32px;\n",
              "    }\n",
              "\n",
              "    .colab-df-convert:hover {\n",
              "      background-color: #E2EBFA;\n",
              "      box-shadow: 0px 1px 2px rgba(60, 64, 67, 0.3), 0px 1px 3px 1px rgba(60, 64, 67, 0.15);\n",
              "      fill: #174EA6;\n",
              "    }\n",
              "\n",
              "    [theme=dark] .colab-df-convert {\n",
              "      background-color: #3B4455;\n",
              "      fill: #D2E3FC;\n",
              "    }\n",
              "\n",
              "    [theme=dark] .colab-df-convert:hover {\n",
              "      background-color: #434B5C;\n",
              "      box-shadow: 0px 1px 3px 1px rgba(0, 0, 0, 0.15);\n",
              "      filter: drop-shadow(0px 1px 2px rgba(0, 0, 0, 0.3));\n",
              "      fill: #FFFFFF;\n",
              "    }\n",
              "  </style>\n",
              "\n",
              "      <script>\n",
              "        const buttonEl =\n",
              "          document.querySelector('#df-5d6400f7-5b22-4969-ade4-7287cf39a28f button.colab-df-convert');\n",
              "        buttonEl.style.display =\n",
              "          google.colab.kernel.accessAllowed ? 'block' : 'none';\n",
              "\n",
              "        async function convertToInteractive(key) {\n",
              "          const element = document.querySelector('#df-5d6400f7-5b22-4969-ade4-7287cf39a28f');\n",
              "          const dataTable =\n",
              "            await google.colab.kernel.invokeFunction('convertToInteractive',\n",
              "                                                     [key], {});\n",
              "          if (!dataTable) return;\n",
              "\n",
              "          const docLinkHtml = 'Like what you see? Visit the ' +\n",
              "            '<a target=\"_blank\" href=https://colab.research.google.com/notebooks/data_table.ipynb>data table notebook</a>'\n",
              "            + ' to learn more about interactive tables.';\n",
              "          element.innerHTML = '';\n",
              "          dataTable['output_type'] = 'display_data';\n",
              "          await google.colab.output.renderOutput(dataTable, element);\n",
              "          const docLink = document.createElement('div');\n",
              "          docLink.innerHTML = docLinkHtml;\n",
              "          element.appendChild(docLink);\n",
              "        }\n",
              "      </script>\n",
              "    </div>\n",
              "  </div>\n",
              "  "
            ]
          },
          "metadata": {},
          "execution_count": 145
        }
      ]
    },
    {
      "cell_type": "markdown",
      "source": [
        "Al observar los datos podemos ver que en general son correctos. No obstante en los casos de algunas columnas se muestra un valor aproximado y después un rango entre corchetes. Para el procesamiento de los datos podría ser más conveniente mantener solamente el valor aproximado.\n",
        "\n",
        "Además hay una gran cantidad de entradas con valores nulos."
      ],
      "metadata": {
        "id": "McV_gdC5srFF"
      }
    },
    {
      "cell_type": "markdown",
      "source": [
        "## Limpieza de datos"
      ],
      "metadata": {
        "id": "GGCjJi2MtEL_"
      }
    },
    {
      "cell_type": "markdown",
      "source": [
        "Se cuentan los valores nulos por cada columna"
      ],
      "metadata": {
        "id": "FIARl-gdtv89"
      }
    },
    {
      "cell_type": "code",
      "source": [
        "df.isna().sum()"
      ],
      "metadata": {
        "colab": {
          "base_uri": "https://localhost:8080/"
        },
        "id": "4d6CakCVuAJa",
        "outputId": "f1594636-1936-44db-fb1a-d5ca9dfba6c1"
      },
      "execution_count": null,
      "outputs": [
        {
          "output_type": "execute_result",
          "data": {
            "text/plain": [
              "country               0\n",
              "year                  0\n",
              "presumed_cases      160\n",
              "confirmed_cases     135\n",
              "estimated_deaths      0\n",
              "mortality_rate        8\n",
              "treated_cases       180\n",
              "dtype: int64"
            ]
          },
          "metadata": {},
          "execution_count": 146
        }
      ]
    },
    {
      "cell_type": "markdown",
      "source": [
        "Las columnas de casos presumidos y confirmados, así como de casos tratados cuentan con una gran cantidad de valores nulos. \n",
        "\n",
        "Las columnas con mayor cantidad de valores nulos son casos confirmados y casos tratados. No podemos eliminarlas, ya que estas variables en realidad son indispensables para nuestra problemática. \n",
        "\n",
        "En algunas entradas la presencia de valores nulos implica la ausencia de malaria en la región, sin embargo no es el caso de todas. Podríamos sustituir los valores por la media o mediana, sin embargo esto afectaría el análisis, ya que el contagio y tratamiento de la enfermedad se ha desarrollado de forma distinta en cada región, no es uniforme entre las distinta regiones. \n",
        "\n",
        "Comenzamos por eliminar las filas con valores nulos en las columnas presumed_cases, y confirmed_cases, ya que las entradas que no cuentan con esta información no nos son útiles"
      ],
      "metadata": {
        "id": "EBJ6qqX6uKvY"
      }
    },
    {
      "cell_type": "code",
      "source": [
        "df = df.dropna(subset=[\"presumed_cases\", \"confirmed_cases\"])"
      ],
      "metadata": {
        "id": "_K4UjMZuuCOe"
      },
      "execution_count": null,
      "outputs": []
    },
    {
      "cell_type": "markdown",
      "source": [
        "Contamos nuevamente la cantidad de valores nulos por columna"
      ],
      "metadata": {
        "id": "pY7iyJUjmCYE"
      }
    },
    {
      "cell_type": "code",
      "source": [
        "df.isna().sum()"
      ],
      "metadata": {
        "colab": {
          "base_uri": "https://localhost:8080/"
        },
        "id": "vvRBEaOdgIUW",
        "outputId": "b902ba8a-94be-4eb1-9fbd-fe2d6d9d5ebf"
      },
      "execution_count": null,
      "outputs": [
        {
          "output_type": "execute_result",
          "data": {
            "text/plain": [
              "country              0\n",
              "year                 0\n",
              "presumed_cases       0\n",
              "confirmed_cases      0\n",
              "estimated_deaths     0\n",
              "mortality_rate       0\n",
              "treated_cases       44\n",
              "dtype: int64"
            ]
          },
          "metadata": {},
          "execution_count": 148
        }
      ]
    },
    {
      "cell_type": "markdown",
      "source": [
        "Observamos que al eliminar los valores nulos de las columnas *presumed_cases* y *confirmed_cases* se eliminan también los de *mortality_rate*. En cuanto a *treated_cases* es posible que los valores nulos restantes se deban a la ausencia de malaria en la región o a que al ser pocos casos no fue necesario tratar ninguno.\n",
        "\n",
        "Al observar estas entradas vemos que es el caso"
      ],
      "metadata": {
        "id": "YHS2v8DCmLva"
      }
    },
    {
      "cell_type": "code",
      "source": [
        "df[df[\"treated_cases\"].isna()].head()"
      ],
      "metadata": {
        "colab": {
          "base_uri": "https://localhost:8080/",
          "height": 206
        },
        "id": "SzhTF6fVlwG-",
        "outputId": "a1f16cde-6e56-4092-b1e0-a82ebd11622d"
      },
      "execution_count": null,
      "outputs": [
        {
          "output_type": "execute_result",
          "data": {
            "text/plain": [
              "   country  year presumed_cases confirmed_cases estimated_deaths  \\\n",
              "12     ARG  2018              0              23                0   \n",
              "13     ARG  2019              0               0                0   \n",
              "15     ARM  2018              0               6                0   \n",
              "17     ARM  2020              0               3       No malaria   \n",
              "21     AZE  2018              0               2                0   \n",
              "\n",
              "   mortality_rate treated_cases  \n",
              "12  0.0 [0.0-0.0]           NaN  \n",
              "13  0.0 [0.0-0.0]           NaN  \n",
              "15  0.0 [0.0-0.0]           NaN  \n",
              "17     No malaria           NaN  \n",
              "21  0.0 [0.0-0.0]           NaN  "
            ],
            "text/html": [
              "\n",
              "  <div id=\"df-52e43fab-c0d4-4412-b114-360fe7d77d2d\">\n",
              "    <div class=\"colab-df-container\">\n",
              "      <div>\n",
              "<style scoped>\n",
              "    .dataframe tbody tr th:only-of-type {\n",
              "        vertical-align: middle;\n",
              "    }\n",
              "\n",
              "    .dataframe tbody tr th {\n",
              "        vertical-align: top;\n",
              "    }\n",
              "\n",
              "    .dataframe thead th {\n",
              "        text-align: right;\n",
              "    }\n",
              "</style>\n",
              "<table border=\"1\" class=\"dataframe\">\n",
              "  <thead>\n",
              "    <tr style=\"text-align: right;\">\n",
              "      <th></th>\n",
              "      <th>country</th>\n",
              "      <th>year</th>\n",
              "      <th>presumed_cases</th>\n",
              "      <th>confirmed_cases</th>\n",
              "      <th>estimated_deaths</th>\n",
              "      <th>mortality_rate</th>\n",
              "      <th>treated_cases</th>\n",
              "    </tr>\n",
              "  </thead>\n",
              "  <tbody>\n",
              "    <tr>\n",
              "      <th>12</th>\n",
              "      <td>ARG</td>\n",
              "      <td>2018</td>\n",
              "      <td>0</td>\n",
              "      <td>23</td>\n",
              "      <td>0</td>\n",
              "      <td>0.0 [0.0-0.0]</td>\n",
              "      <td>NaN</td>\n",
              "    </tr>\n",
              "    <tr>\n",
              "      <th>13</th>\n",
              "      <td>ARG</td>\n",
              "      <td>2019</td>\n",
              "      <td>0</td>\n",
              "      <td>0</td>\n",
              "      <td>0</td>\n",
              "      <td>0.0 [0.0-0.0]</td>\n",
              "      <td>NaN</td>\n",
              "    </tr>\n",
              "    <tr>\n",
              "      <th>15</th>\n",
              "      <td>ARM</td>\n",
              "      <td>2018</td>\n",
              "      <td>0</td>\n",
              "      <td>6</td>\n",
              "      <td>0</td>\n",
              "      <td>0.0 [0.0-0.0]</td>\n",
              "      <td>NaN</td>\n",
              "    </tr>\n",
              "    <tr>\n",
              "      <th>17</th>\n",
              "      <td>ARM</td>\n",
              "      <td>2020</td>\n",
              "      <td>0</td>\n",
              "      <td>3</td>\n",
              "      <td>No malaria</td>\n",
              "      <td>No malaria</td>\n",
              "      <td>NaN</td>\n",
              "    </tr>\n",
              "    <tr>\n",
              "      <th>21</th>\n",
              "      <td>AZE</td>\n",
              "      <td>2018</td>\n",
              "      <td>0</td>\n",
              "      <td>2</td>\n",
              "      <td>0</td>\n",
              "      <td>0.0 [0.0-0.0]</td>\n",
              "      <td>NaN</td>\n",
              "    </tr>\n",
              "  </tbody>\n",
              "</table>\n",
              "</div>\n",
              "      <button class=\"colab-df-convert\" onclick=\"convertToInteractive('df-52e43fab-c0d4-4412-b114-360fe7d77d2d')\"\n",
              "              title=\"Convert this dataframe to an interactive table.\"\n",
              "              style=\"display:none;\">\n",
              "        \n",
              "  <svg xmlns=\"http://www.w3.org/2000/svg\" height=\"24px\"viewBox=\"0 0 24 24\"\n",
              "       width=\"24px\">\n",
              "    <path d=\"M0 0h24v24H0V0z\" fill=\"none\"/>\n",
              "    <path d=\"M18.56 5.44l.94 2.06.94-2.06 2.06-.94-2.06-.94-.94-2.06-.94 2.06-2.06.94zm-11 1L8.5 8.5l.94-2.06 2.06-.94-2.06-.94L8.5 2.5l-.94 2.06-2.06.94zm10 10l.94 2.06.94-2.06 2.06-.94-2.06-.94-.94-2.06-.94 2.06-2.06.94z\"/><path d=\"M17.41 7.96l-1.37-1.37c-.4-.4-.92-.59-1.43-.59-.52 0-1.04.2-1.43.59L10.3 9.45l-7.72 7.72c-.78.78-.78 2.05 0 2.83L4 21.41c.39.39.9.59 1.41.59.51 0 1.02-.2 1.41-.59l7.78-7.78 2.81-2.81c.8-.78.8-2.07 0-2.86zM5.41 20L4 18.59l7.72-7.72 1.47 1.35L5.41 20z\"/>\n",
              "  </svg>\n",
              "      </button>\n",
              "      \n",
              "  <style>\n",
              "    .colab-df-container {\n",
              "      display:flex;\n",
              "      flex-wrap:wrap;\n",
              "      gap: 12px;\n",
              "    }\n",
              "\n",
              "    .colab-df-convert {\n",
              "      background-color: #E8F0FE;\n",
              "      border: none;\n",
              "      border-radius: 50%;\n",
              "      cursor: pointer;\n",
              "      display: none;\n",
              "      fill: #1967D2;\n",
              "      height: 32px;\n",
              "      padding: 0 0 0 0;\n",
              "      width: 32px;\n",
              "    }\n",
              "\n",
              "    .colab-df-convert:hover {\n",
              "      background-color: #E2EBFA;\n",
              "      box-shadow: 0px 1px 2px rgba(60, 64, 67, 0.3), 0px 1px 3px 1px rgba(60, 64, 67, 0.15);\n",
              "      fill: #174EA6;\n",
              "    }\n",
              "\n",
              "    [theme=dark] .colab-df-convert {\n",
              "      background-color: #3B4455;\n",
              "      fill: #D2E3FC;\n",
              "    }\n",
              "\n",
              "    [theme=dark] .colab-df-convert:hover {\n",
              "      background-color: #434B5C;\n",
              "      box-shadow: 0px 1px 3px 1px rgba(0, 0, 0, 0.15);\n",
              "      filter: drop-shadow(0px 1px 2px rgba(0, 0, 0, 0.3));\n",
              "      fill: #FFFFFF;\n",
              "    }\n",
              "  </style>\n",
              "\n",
              "      <script>\n",
              "        const buttonEl =\n",
              "          document.querySelector('#df-52e43fab-c0d4-4412-b114-360fe7d77d2d button.colab-df-convert');\n",
              "        buttonEl.style.display =\n",
              "          google.colab.kernel.accessAllowed ? 'block' : 'none';\n",
              "\n",
              "        async function convertToInteractive(key) {\n",
              "          const element = document.querySelector('#df-52e43fab-c0d4-4412-b114-360fe7d77d2d');\n",
              "          const dataTable =\n",
              "            await google.colab.kernel.invokeFunction('convertToInteractive',\n",
              "                                                     [key], {});\n",
              "          if (!dataTable) return;\n",
              "\n",
              "          const docLinkHtml = 'Like what you see? Visit the ' +\n",
              "            '<a target=\"_blank\" href=https://colab.research.google.com/notebooks/data_table.ipynb>data table notebook</a>'\n",
              "            + ' to learn more about interactive tables.';\n",
              "          element.innerHTML = '';\n",
              "          dataTable['output_type'] = 'display_data';\n",
              "          await google.colab.output.renderOutput(dataTable, element);\n",
              "          const docLink = document.createElement('div');\n",
              "          docLink.innerHTML = docLinkHtml;\n",
              "          element.appendChild(docLink);\n",
              "        }\n",
              "      </script>\n",
              "    </div>\n",
              "  </div>\n",
              "  "
            ]
          },
          "metadata": {},
          "execution_count": 149
        }
      ]
    },
    {
      "cell_type": "markdown",
      "source": [
        "Por tanto, solo en estos casos reemplazaremos los valores nulos por 0"
      ],
      "metadata": {
        "id": "WT-RnSazoVZ8"
      }
    },
    {
      "cell_type": "code",
      "source": [
        "df[\"treated_cases\"].replace(np.nan, \"0\", inplace=True)"
      ],
      "metadata": {
        "colab": {
          "base_uri": "https://localhost:8080/"
        },
        "id": "VqoOoaW8obfW",
        "outputId": "e95cc527-8eed-4509-ad33-7af9d8bea436"
      },
      "execution_count": null,
      "outputs": [
        {
          "output_type": "stream",
          "name": "stderr",
          "text": [
            "/usr/local/lib/python3.7/dist-packages/pandas/core/generic.py:6619: SettingWithCopyWarning: \n",
            "A value is trying to be set on a copy of a slice from a DataFrame\n",
            "\n",
            "See the caveats in the documentation: https://pandas.pydata.org/pandas-docs/stable/user_guide/indexing.html#returning-a-view-versus-a-copy\n",
            "  return self._update_inplace(result)\n"
          ]
        }
      ]
    },
    {
      "cell_type": "markdown",
      "source": [
        "Observamos que ya no contramos con valores nulos"
      ],
      "metadata": {
        "id": "OU3QDVPYo0Fp"
      }
    },
    {
      "cell_type": "code",
      "source": [
        "df.isna().sum() "
      ],
      "metadata": {
        "colab": {
          "base_uri": "https://localhost:8080/"
        },
        "id": "-0dKmOqTolMB",
        "outputId": "5781023d-9b4c-4cf8-e5b4-37114f954f34"
      },
      "execution_count": null,
      "outputs": [
        {
          "output_type": "execute_result",
          "data": {
            "text/plain": [
              "country             0\n",
              "year                0\n",
              "presumed_cases      0\n",
              "confirmed_cases     0\n",
              "estimated_deaths    0\n",
              "mortality_rate      0\n",
              "treated_cases       0\n",
              "dtype: int64"
            ]
          },
          "metadata": {},
          "execution_count": 151
        }
      ]
    },
    {
      "cell_type": "markdown",
      "source": [
        "Reindexamos el dataframe"
      ],
      "metadata": {
        "id": "sE0jsZ5S1_rR"
      }
    },
    {
      "cell_type": "code",
      "source": [
        "df = df.reset_index(drop=True)\n",
        "df.head()"
      ],
      "metadata": {
        "id": "hk6bZwnq2CbE",
        "colab": {
          "base_uri": "https://localhost:8080/",
          "height": 206
        },
        "outputId": "6ad1dd38-2340-4027-dda7-b8e90883afda"
      },
      "execution_count": null,
      "outputs": [
        {
          "output_type": "execute_result",
          "data": {
            "text/plain": [
              "  country  year presumed_cases confirmed_cases         estimated_deaths  \\\n",
              "0     AFG  2018         51 174         248 689          292 [ 110- 500]   \n",
              "1     AFG  2019          1 034         173 860           170 [ 65- 300]   \n",
              "2     AFG  2020            150         105 295           110 [ 41- 190]   \n",
              "3     AGO  2018        777 685       5 150 575  13 489 [ 9 390- 20 000]   \n",
              "4     AGO  2019        475 810       7 054 978  13 622 [ 9 440- 20 500]   \n",
              "\n",
              "     mortality_rate treated_cases  \n",
              "0     1.0 [0.4-1.8]        31 114  \n",
              "1     0.6 [0.2-1.0]       169 504  \n",
              "2     0.4 [0.1-0.6]       103 466  \n",
              "3  43.8 [30.5-64.9]     6 092 332  \n",
              "4  42.8 [29.7-64.4]     5 575 259  "
            ],
            "text/html": [
              "\n",
              "  <div id=\"df-bbd50d33-ada9-4010-be4e-1a5c778a6464\">\n",
              "    <div class=\"colab-df-container\">\n",
              "      <div>\n",
              "<style scoped>\n",
              "    .dataframe tbody tr th:only-of-type {\n",
              "        vertical-align: middle;\n",
              "    }\n",
              "\n",
              "    .dataframe tbody tr th {\n",
              "        vertical-align: top;\n",
              "    }\n",
              "\n",
              "    .dataframe thead th {\n",
              "        text-align: right;\n",
              "    }\n",
              "</style>\n",
              "<table border=\"1\" class=\"dataframe\">\n",
              "  <thead>\n",
              "    <tr style=\"text-align: right;\">\n",
              "      <th></th>\n",
              "      <th>country</th>\n",
              "      <th>year</th>\n",
              "      <th>presumed_cases</th>\n",
              "      <th>confirmed_cases</th>\n",
              "      <th>estimated_deaths</th>\n",
              "      <th>mortality_rate</th>\n",
              "      <th>treated_cases</th>\n",
              "    </tr>\n",
              "  </thead>\n",
              "  <tbody>\n",
              "    <tr>\n",
              "      <th>0</th>\n",
              "      <td>AFG</td>\n",
              "      <td>2018</td>\n",
              "      <td>51 174</td>\n",
              "      <td>248 689</td>\n",
              "      <td>292 [ 110- 500]</td>\n",
              "      <td>1.0 [0.4-1.8]</td>\n",
              "      <td>31 114</td>\n",
              "    </tr>\n",
              "    <tr>\n",
              "      <th>1</th>\n",
              "      <td>AFG</td>\n",
              "      <td>2019</td>\n",
              "      <td>1 034</td>\n",
              "      <td>173 860</td>\n",
              "      <td>170 [ 65- 300]</td>\n",
              "      <td>0.6 [0.2-1.0]</td>\n",
              "      <td>169 504</td>\n",
              "    </tr>\n",
              "    <tr>\n",
              "      <th>2</th>\n",
              "      <td>AFG</td>\n",
              "      <td>2020</td>\n",
              "      <td>150</td>\n",
              "      <td>105 295</td>\n",
              "      <td>110 [ 41- 190]</td>\n",
              "      <td>0.4 [0.1-0.6]</td>\n",
              "      <td>103 466</td>\n",
              "    </tr>\n",
              "    <tr>\n",
              "      <th>3</th>\n",
              "      <td>AGO</td>\n",
              "      <td>2018</td>\n",
              "      <td>777 685</td>\n",
              "      <td>5 150 575</td>\n",
              "      <td>13 489 [ 9 390- 20 000]</td>\n",
              "      <td>43.8 [30.5-64.9]</td>\n",
              "      <td>6 092 332</td>\n",
              "    </tr>\n",
              "    <tr>\n",
              "      <th>4</th>\n",
              "      <td>AGO</td>\n",
              "      <td>2019</td>\n",
              "      <td>475 810</td>\n",
              "      <td>7 054 978</td>\n",
              "      <td>13 622 [ 9 440- 20 500]</td>\n",
              "      <td>42.8 [29.7-64.4]</td>\n",
              "      <td>5 575 259</td>\n",
              "    </tr>\n",
              "  </tbody>\n",
              "</table>\n",
              "</div>\n",
              "      <button class=\"colab-df-convert\" onclick=\"convertToInteractive('df-bbd50d33-ada9-4010-be4e-1a5c778a6464')\"\n",
              "              title=\"Convert this dataframe to an interactive table.\"\n",
              "              style=\"display:none;\">\n",
              "        \n",
              "  <svg xmlns=\"http://www.w3.org/2000/svg\" height=\"24px\"viewBox=\"0 0 24 24\"\n",
              "       width=\"24px\">\n",
              "    <path d=\"M0 0h24v24H0V0z\" fill=\"none\"/>\n",
              "    <path d=\"M18.56 5.44l.94 2.06.94-2.06 2.06-.94-2.06-.94-.94-2.06-.94 2.06-2.06.94zm-11 1L8.5 8.5l.94-2.06 2.06-.94-2.06-.94L8.5 2.5l-.94 2.06-2.06.94zm10 10l.94 2.06.94-2.06 2.06-.94-2.06-.94-.94-2.06-.94 2.06-2.06.94z\"/><path d=\"M17.41 7.96l-1.37-1.37c-.4-.4-.92-.59-1.43-.59-.52 0-1.04.2-1.43.59L10.3 9.45l-7.72 7.72c-.78.78-.78 2.05 0 2.83L4 21.41c.39.39.9.59 1.41.59.51 0 1.02-.2 1.41-.59l7.78-7.78 2.81-2.81c.8-.78.8-2.07 0-2.86zM5.41 20L4 18.59l7.72-7.72 1.47 1.35L5.41 20z\"/>\n",
              "  </svg>\n",
              "      </button>\n",
              "      \n",
              "  <style>\n",
              "    .colab-df-container {\n",
              "      display:flex;\n",
              "      flex-wrap:wrap;\n",
              "      gap: 12px;\n",
              "    }\n",
              "\n",
              "    .colab-df-convert {\n",
              "      background-color: #E8F0FE;\n",
              "      border: none;\n",
              "      border-radius: 50%;\n",
              "      cursor: pointer;\n",
              "      display: none;\n",
              "      fill: #1967D2;\n",
              "      height: 32px;\n",
              "      padding: 0 0 0 0;\n",
              "      width: 32px;\n",
              "    }\n",
              "\n",
              "    .colab-df-convert:hover {\n",
              "      background-color: #E2EBFA;\n",
              "      box-shadow: 0px 1px 2px rgba(60, 64, 67, 0.3), 0px 1px 3px 1px rgba(60, 64, 67, 0.15);\n",
              "      fill: #174EA6;\n",
              "    }\n",
              "\n",
              "    [theme=dark] .colab-df-convert {\n",
              "      background-color: #3B4455;\n",
              "      fill: #D2E3FC;\n",
              "    }\n",
              "\n",
              "    [theme=dark] .colab-df-convert:hover {\n",
              "      background-color: #434B5C;\n",
              "      box-shadow: 0px 1px 3px 1px rgba(0, 0, 0, 0.15);\n",
              "      filter: drop-shadow(0px 1px 2px rgba(0, 0, 0, 0.3));\n",
              "      fill: #FFFFFF;\n",
              "    }\n",
              "  </style>\n",
              "\n",
              "      <script>\n",
              "        const buttonEl =\n",
              "          document.querySelector('#df-bbd50d33-ada9-4010-be4e-1a5c778a6464 button.colab-df-convert');\n",
              "        buttonEl.style.display =\n",
              "          google.colab.kernel.accessAllowed ? 'block' : 'none';\n",
              "\n",
              "        async function convertToInteractive(key) {\n",
              "          const element = document.querySelector('#df-bbd50d33-ada9-4010-be4e-1a5c778a6464');\n",
              "          const dataTable =\n",
              "            await google.colab.kernel.invokeFunction('convertToInteractive',\n",
              "                                                     [key], {});\n",
              "          if (!dataTable) return;\n",
              "\n",
              "          const docLinkHtml = 'Like what you see? Visit the ' +\n",
              "            '<a target=\"_blank\" href=https://colab.research.google.com/notebooks/data_table.ipynb>data table notebook</a>'\n",
              "            + ' to learn more about interactive tables.';\n",
              "          element.innerHTML = '';\n",
              "          dataTable['output_type'] = 'display_data';\n",
              "          await google.colab.output.renderOutput(dataTable, element);\n",
              "          const docLink = document.createElement('div');\n",
              "          docLink.innerHTML = docLinkHtml;\n",
              "          element.appendChild(docLink);\n",
              "        }\n",
              "      </script>\n",
              "    </div>\n",
              "  </div>\n",
              "  "
            ]
          },
          "metadata": {},
          "execution_count": 152
        }
      ]
    },
    {
      "cell_type": "markdown",
      "source": [
        "Calculamos el tamaño del dataset sin valores nulos"
      ],
      "metadata": {
        "id": "U39JLKZY_4Py"
      }
    },
    {
      "cell_type": "code",
      "source": [
        "df.shape"
      ],
      "metadata": {
        "colab": {
          "base_uri": "https://localhost:8080/"
        },
        "outputId": "75eec5e6-7e7b-46a3-fca0-39efe895204e",
        "id": "Y-RKXa4d_4QY"
      },
      "execution_count": null,
      "outputs": [
        {
          "output_type": "execute_result",
          "data": {
            "text/plain": [
              "(256, 7)"
            ]
          },
          "metadata": {},
          "execution_count": 153
        }
      ]
    },
    {
      "cell_type": "markdown",
      "source": [
        "Contamos la cantidad de valores para cada país"
      ],
      "metadata": {
        "id": "vYeJzfMS_4Qc"
      }
    },
    {
      "cell_type": "code",
      "source": [
        "df[\"country\"].value_counts()"
      ],
      "metadata": {
        "colab": {
          "base_uri": "https://localhost:8080/"
        },
        "outputId": "0246cebd-875a-4feb-a08c-d3994fed8b90",
        "id": "jaZTQdF8_4Qd"
      },
      "execution_count": null,
      "outputs": [
        {
          "output_type": "execute_result",
          "data": {
            "text/plain": [
              "AFG    3\n",
              "PRK    3\n",
              "PER    3\n",
              "PAN    3\n",
              "PAK    3\n",
              "      ..\n",
              "NER    1\n",
              "AZE    1\n",
              "COM    1\n",
              "SWZ    1\n",
              "LBR    1\n",
              "Name: country, Length: 95, dtype: int64"
            ]
          },
          "metadata": {},
          "execution_count": 154
        }
      ]
    },
    {
      "cell_type": "markdown",
      "source": [
        "Contamos la cantidad de valores por año"
      ],
      "metadata": {
        "id": "5j5yG_g8_4Qe"
      }
    },
    {
      "cell_type": "code",
      "source": [
        "df[\"year\"].value_counts()"
      ],
      "metadata": {
        "colab": {
          "base_uri": "https://localhost:8080/"
        },
        "outputId": "b9b68a43-5412-40e6-e658-1faf53b76e2b",
        "id": "VdcmEa75_4Qf"
      },
      "execution_count": null,
      "outputs": [
        {
          "output_type": "execute_result",
          "data": {
            "text/plain": [
              "2018    91\n",
              "2019    84\n",
              "2020    81\n",
              "Name: year, dtype: int64"
            ]
          },
          "metadata": {},
          "execution_count": 155
        }
      ]
    },
    {
      "cell_type": "markdown",
      "source": [
        "El dataset sin valores nulos tiene 256 filas y 7 columnas. Se cuenta con datos de 102 países distintos. Para la mayoría se cuenta con el registro de 2018 a 2020, para otros solamente se cuentan con registros de menos años, siendo en 2020 donde se presentan más registros. \n",
        "\n",
        "Si bien, el dataset se redujo de manera significativa, mantuvimos los datos más recientes de los cuales podemos analizar todas las variables consideradas."
      ],
      "metadata": {
        "id": "l3GPMtqcABfC"
      }
    },
    {
      "cell_type": "markdown",
      "source": [
        "# Transformación de datos"
      ],
      "metadata": {
        "id": "O_Iim4gzC1NQ"
      }
    },
    {
      "cell_type": "markdown",
      "source": [
        "Revisamos nuevamente el tipo de dato de cada columna"
      ],
      "metadata": {
        "id": "B6_ONi6IJ1jD"
      }
    },
    {
      "cell_type": "code",
      "source": [
        "df.dtypes"
      ],
      "metadata": {
        "colab": {
          "base_uri": "https://localhost:8080/"
        },
        "id": "0K1VtBNgJ4kC",
        "outputId": "2d5bf380-3057-4110-ac26-c4ff24c99d60"
      },
      "execution_count": null,
      "outputs": [
        {
          "output_type": "execute_result",
          "data": {
            "text/plain": [
              "country             object\n",
              "year                 int64\n",
              "presumed_cases      object\n",
              "confirmed_cases     object\n",
              "estimated_deaths    object\n",
              "mortality_rate      object\n",
              "treated_cases       object\n",
              "dtype: object"
            ]
          },
          "metadata": {},
          "execution_count": 156
        }
      ]
    },
    {
      "cell_type": "markdown",
      "source": [
        "Debemos convertir *presumed_cases*, *confirmed_cases* y *cases_treated* a entero, sin embargo, los números se encuentran separados por espacios los cuales debemos eliminar."
      ],
      "metadata": {
        "id": "RNaqkfDLKB1I"
      }
    },
    {
      "cell_type": "markdown",
      "source": [
        "Eliminamos los espacios extra"
      ],
      "metadata": {
        "id": "Kz4RmIhtLYgF"
      }
    },
    {
      "cell_type": "code",
      "source": [
        "df['presumed_cases'] = df[\"presumed_cases\"].str.replace('\\s', '', regex=True)\n",
        "df[\"confirmed_cases\"] = df[\"confirmed_cases\"].str.replace('\\s', '', regex=True)\n",
        "df[\"treated_cases\"] = df[\"treated_cases\"].str.replace('\\s', '', regex=True)"
      ],
      "metadata": {
        "id": "achKxsg5LXy6"
      },
      "execution_count": null,
      "outputs": []
    },
    {
      "cell_type": "markdown",
      "source": [
        "Una de las entradas de *treated_cases* combina un número con un porcentaje, por lo que lo tratamos"
      ],
      "metadata": {
        "id": "v3RXQIoh3CHh"
      }
    },
    {
      "cell_type": "code",
      "source": [
        "df[df[\"treated_cases\"].str.find(\"%\") != -1]"
      ],
      "metadata": {
        "colab": {
          "base_uri": "https://localhost:8080/",
          "height": 81
        },
        "id": "qb-ZItjL3QNh",
        "outputId": "c67cf055-c8d4-4c03-951a-95ba458bdc4b"
      },
      "execution_count": null,
      "outputs": [
        {
          "output_type": "execute_result",
          "data": {
            "text/plain": [
              "    country  year presumed_cases confirmed_cases estimated_deaths  \\\n",
              "124     LAO  2018              0            9038      23 [ 1- 45]   \n",
              "\n",
              "    mortality_rate treated_cases  \n",
              "124  0.6 [0.0-1.2]    888031.20%  "
            ],
            "text/html": [
              "\n",
              "  <div id=\"df-f4a2b19a-05af-48ee-954e-dc356a6b6fd8\">\n",
              "    <div class=\"colab-df-container\">\n",
              "      <div>\n",
              "<style scoped>\n",
              "    .dataframe tbody tr th:only-of-type {\n",
              "        vertical-align: middle;\n",
              "    }\n",
              "\n",
              "    .dataframe tbody tr th {\n",
              "        vertical-align: top;\n",
              "    }\n",
              "\n",
              "    .dataframe thead th {\n",
              "        text-align: right;\n",
              "    }\n",
              "</style>\n",
              "<table border=\"1\" class=\"dataframe\">\n",
              "  <thead>\n",
              "    <tr style=\"text-align: right;\">\n",
              "      <th></th>\n",
              "      <th>country</th>\n",
              "      <th>year</th>\n",
              "      <th>presumed_cases</th>\n",
              "      <th>confirmed_cases</th>\n",
              "      <th>estimated_deaths</th>\n",
              "      <th>mortality_rate</th>\n",
              "      <th>treated_cases</th>\n",
              "    </tr>\n",
              "  </thead>\n",
              "  <tbody>\n",
              "    <tr>\n",
              "      <th>124</th>\n",
              "      <td>LAO</td>\n",
              "      <td>2018</td>\n",
              "      <td>0</td>\n",
              "      <td>9038</td>\n",
              "      <td>23 [ 1- 45]</td>\n",
              "      <td>0.6 [0.0-1.2]</td>\n",
              "      <td>888031.20%</td>\n",
              "    </tr>\n",
              "  </tbody>\n",
              "</table>\n",
              "</div>\n",
              "      <button class=\"colab-df-convert\" onclick=\"convertToInteractive('df-f4a2b19a-05af-48ee-954e-dc356a6b6fd8')\"\n",
              "              title=\"Convert this dataframe to an interactive table.\"\n",
              "              style=\"display:none;\">\n",
              "        \n",
              "  <svg xmlns=\"http://www.w3.org/2000/svg\" height=\"24px\"viewBox=\"0 0 24 24\"\n",
              "       width=\"24px\">\n",
              "    <path d=\"M0 0h24v24H0V0z\" fill=\"none\"/>\n",
              "    <path d=\"M18.56 5.44l.94 2.06.94-2.06 2.06-.94-2.06-.94-.94-2.06-.94 2.06-2.06.94zm-11 1L8.5 8.5l.94-2.06 2.06-.94-2.06-.94L8.5 2.5l-.94 2.06-2.06.94zm10 10l.94 2.06.94-2.06 2.06-.94-2.06-.94-.94-2.06-.94 2.06-2.06.94z\"/><path d=\"M17.41 7.96l-1.37-1.37c-.4-.4-.92-.59-1.43-.59-.52 0-1.04.2-1.43.59L10.3 9.45l-7.72 7.72c-.78.78-.78 2.05 0 2.83L4 21.41c.39.39.9.59 1.41.59.51 0 1.02-.2 1.41-.59l7.78-7.78 2.81-2.81c.8-.78.8-2.07 0-2.86zM5.41 20L4 18.59l7.72-7.72 1.47 1.35L5.41 20z\"/>\n",
              "  </svg>\n",
              "      </button>\n",
              "      \n",
              "  <style>\n",
              "    .colab-df-container {\n",
              "      display:flex;\n",
              "      flex-wrap:wrap;\n",
              "      gap: 12px;\n",
              "    }\n",
              "\n",
              "    .colab-df-convert {\n",
              "      background-color: #E8F0FE;\n",
              "      border: none;\n",
              "      border-radius: 50%;\n",
              "      cursor: pointer;\n",
              "      display: none;\n",
              "      fill: #1967D2;\n",
              "      height: 32px;\n",
              "      padding: 0 0 0 0;\n",
              "      width: 32px;\n",
              "    }\n",
              "\n",
              "    .colab-df-convert:hover {\n",
              "      background-color: #E2EBFA;\n",
              "      box-shadow: 0px 1px 2px rgba(60, 64, 67, 0.3), 0px 1px 3px 1px rgba(60, 64, 67, 0.15);\n",
              "      fill: #174EA6;\n",
              "    }\n",
              "\n",
              "    [theme=dark] .colab-df-convert {\n",
              "      background-color: #3B4455;\n",
              "      fill: #D2E3FC;\n",
              "    }\n",
              "\n",
              "    [theme=dark] .colab-df-convert:hover {\n",
              "      background-color: #434B5C;\n",
              "      box-shadow: 0px 1px 3px 1px rgba(0, 0, 0, 0.15);\n",
              "      filter: drop-shadow(0px 1px 2px rgba(0, 0, 0, 0.3));\n",
              "      fill: #FFFFFF;\n",
              "    }\n",
              "  </style>\n",
              "\n",
              "      <script>\n",
              "        const buttonEl =\n",
              "          document.querySelector('#df-f4a2b19a-05af-48ee-954e-dc356a6b6fd8 button.colab-df-convert');\n",
              "        buttonEl.style.display =\n",
              "          google.colab.kernel.accessAllowed ? 'block' : 'none';\n",
              "\n",
              "        async function convertToInteractive(key) {\n",
              "          const element = document.querySelector('#df-f4a2b19a-05af-48ee-954e-dc356a6b6fd8');\n",
              "          const dataTable =\n",
              "            await google.colab.kernel.invokeFunction('convertToInteractive',\n",
              "                                                     [key], {});\n",
              "          if (!dataTable) return;\n",
              "\n",
              "          const docLinkHtml = 'Like what you see? Visit the ' +\n",
              "            '<a target=\"_blank\" href=https://colab.research.google.com/notebooks/data_table.ipynb>data table notebook</a>'\n",
              "            + ' to learn more about interactive tables.';\n",
              "          element.innerHTML = '';\n",
              "          dataTable['output_type'] = 'display_data';\n",
              "          await google.colab.output.renderOutput(dataTable, element);\n",
              "          const docLink = document.createElement('div');\n",
              "          docLink.innerHTML = docLinkHtml;\n",
              "          element.appendChild(docLink);\n",
              "        }\n",
              "      </script>\n",
              "    </div>\n",
              "  </div>\n",
              "  "
            ]
          },
          "metadata": {},
          "execution_count": 158
        }
      ]
    },
    {
      "cell_type": "markdown",
      "source": [
        "Al ser solo una entrada reasignaremos el valor manualmente"
      ],
      "metadata": {
        "id": "GsZMdyej3USk"
      }
    },
    {
      "cell_type": "code",
      "source": [
        "df.loc[124, \"treated_cases\"] = \"8880\""
      ],
      "metadata": {
        "id": "aWH69-vx3ZM5"
      },
      "execution_count": null,
      "outputs": []
    },
    {
      "cell_type": "markdown",
      "source": [
        "Convertimos a valores numéricos las columnas indicadas"
      ],
      "metadata": {
        "id": "KbQqHEnqNNdp"
      }
    },
    {
      "cell_type": "code",
      "source": [
        "df[\"presumed_cases\"] = pd.to_numeric(df[\"presumed_cases\"])\n",
        "df[\"confirmed_cases\"] = pd.to_numeric(df[\"confirmed_cases\"])\n",
        "df[\"treated_cases\"] = pd.to_numeric(df[\"treated_cases\"])\n",
        "df[\"treated_cases\"] = df[\"treated_cases\"].astype(\"int64\")"
      ],
      "metadata": {
        "id": "xiF_QIiXKLLJ"
      },
      "execution_count": null,
      "outputs": []
    },
    {
      "cell_type": "markdown",
      "source": [
        "Verificamos los tipos de las variables"
      ],
      "metadata": {
        "id": "nHJh7sM1NT7S"
      }
    },
    {
      "cell_type": "code",
      "source": [
        "df.dtypes"
      ],
      "metadata": {
        "colab": {
          "base_uri": "https://localhost:8080/"
        },
        "id": "aXG-ahh6NWbI",
        "outputId": "ae97dc42-2fb5-4690-b6fe-3750d9300735"
      },
      "execution_count": null,
      "outputs": [
        {
          "output_type": "execute_result",
          "data": {
            "text/plain": [
              "country             object\n",
              "year                 int64\n",
              "presumed_cases       int64\n",
              "confirmed_cases      int64\n",
              "estimated_deaths    object\n",
              "mortality_rate      object\n",
              "treated_cases        int64\n",
              "dtype: object"
            ]
          },
          "metadata": {},
          "execution_count": 161
        }
      ]
    },
    {
      "cell_type": "markdown",
      "source": [
        "Las columnas para los casos presumidos, confirmados y tratados son ahora del tipo entero.\n",
        "\n",
        "Debemos convertir también la columna de *estimated_deaths* a int y la de *mortality_rate* a float. Para ello mantendremos solamente el primer valor indicado (eliminaremos el rango) y convertiremos las entradas que indican \"No malaria\" a 0"
      ],
      "metadata": {
        "id": "6IQc0J_JNY7b"
      }
    },
    {
      "cell_type": "code",
      "source": [
        "def formatear_columnas(string):\n",
        "  if(string == \"No malaria\" or string == \"\"):\n",
        "    return \"0\"\n",
        "  else:\n",
        "    string = string.strip()\n",
        "    string = string.replace(\"/\\s/\", \"\")\n",
        "    datos = string.split(\"[\")\n",
        "    return datos[0]\n",
        "\n",
        "df[\"estimated_deaths\"] = df[\"estimated_deaths\"].map(formatear_columnas)\n",
        "df[\"mortality_rate\"] = df[\"mortality_rate\"].map(formatear_columnas)"
      ],
      "metadata": {
        "id": "6imBOAhLN0RJ"
      },
      "execution_count": null,
      "outputs": []
    },
    {
      "cell_type": "markdown",
      "source": [
        "Removemos también los espacios adicionales en la columna *estimated_deaths*"
      ],
      "metadata": {
        "id": "I-A7GYgSPbqR"
      }
    },
    {
      "cell_type": "code",
      "source": [
        "df['estimated_deaths'] = df[\"estimated_deaths\"].str.replace('\\s', '', regex=True)"
      ],
      "metadata": {
        "id": "4I42cPMcPg5O"
      },
      "execution_count": null,
      "outputs": []
    },
    {
      "cell_type": "markdown",
      "source": [
        "Casteamos ahora ambas columnas al tipo correspondiente"
      ],
      "metadata": {
        "id": "pf2lc0FROyrw"
      }
    },
    {
      "cell_type": "code",
      "source": [
        "cast = {\n",
        "    \"estimated_deaths\": \"int64\",\n",
        "    \"mortality_rate\": \"float64\"\n",
        "}\n",
        "\n",
        "df = df.astype(cast)"
      ],
      "metadata": {
        "id": "XNWo8nJ_O2n2"
      },
      "execution_count": null,
      "outputs": []
    },
    {
      "cell_type": "markdown",
      "source": [
        "Confirmamos que los datos tienen ahora el formato correcto"
      ],
      "metadata": {
        "id": "rIX0TkldQGyV"
      }
    },
    {
      "cell_type": "code",
      "source": [
        "df.dtypes"
      ],
      "metadata": {
        "colab": {
          "base_uri": "https://localhost:8080/"
        },
        "id": "CJKExwf6Os00",
        "outputId": "265a1a9a-8195-4a99-d274-11994faa27a2"
      },
      "execution_count": null,
      "outputs": [
        {
          "output_type": "execute_result",
          "data": {
            "text/plain": [
              "country              object\n",
              "year                  int64\n",
              "presumed_cases        int64\n",
              "confirmed_cases       int64\n",
              "estimated_deaths      int64\n",
              "mortality_rate      float64\n",
              "treated_cases         int64\n",
              "dtype: object"
            ]
          },
          "metadata": {},
          "execution_count": 165
        }
      ]
    },
    {
      "cell_type": "markdown",
      "source": [
        "Visualizamos los datos para ver que estén correctos"
      ],
      "metadata": {
        "id": "2C0y1t4WQLfi"
      }
    },
    {
      "cell_type": "code",
      "source": [
        "df.head()"
      ],
      "metadata": {
        "colab": {
          "base_uri": "https://localhost:8080/",
          "height": 206
        },
        "id": "EsjNIXb4QQCs",
        "outputId": "56b506b0-46c3-4050-97de-b4ba1bd55dfa"
      },
      "execution_count": null,
      "outputs": [
        {
          "output_type": "execute_result",
          "data": {
            "text/plain": [
              "  country  year  presumed_cases  confirmed_cases  estimated_deaths  \\\n",
              "0     AFG  2018           51174           248689               292   \n",
              "1     AFG  2019            1034           173860               170   \n",
              "2     AFG  2020             150           105295               110   \n",
              "3     AGO  2018          777685          5150575             13489   \n",
              "4     AGO  2019          475810          7054978             13622   \n",
              "\n",
              "   mortality_rate  treated_cases  \n",
              "0             1.0          31114  \n",
              "1             0.6         169504  \n",
              "2             0.4         103466  \n",
              "3            43.8        6092332  \n",
              "4            42.8        5575259  "
            ],
            "text/html": [
              "\n",
              "  <div id=\"df-cb9dd340-8ed8-464a-9747-ef6c44d7343a\">\n",
              "    <div class=\"colab-df-container\">\n",
              "      <div>\n",
              "<style scoped>\n",
              "    .dataframe tbody tr th:only-of-type {\n",
              "        vertical-align: middle;\n",
              "    }\n",
              "\n",
              "    .dataframe tbody tr th {\n",
              "        vertical-align: top;\n",
              "    }\n",
              "\n",
              "    .dataframe thead th {\n",
              "        text-align: right;\n",
              "    }\n",
              "</style>\n",
              "<table border=\"1\" class=\"dataframe\">\n",
              "  <thead>\n",
              "    <tr style=\"text-align: right;\">\n",
              "      <th></th>\n",
              "      <th>country</th>\n",
              "      <th>year</th>\n",
              "      <th>presumed_cases</th>\n",
              "      <th>confirmed_cases</th>\n",
              "      <th>estimated_deaths</th>\n",
              "      <th>mortality_rate</th>\n",
              "      <th>treated_cases</th>\n",
              "    </tr>\n",
              "  </thead>\n",
              "  <tbody>\n",
              "    <tr>\n",
              "      <th>0</th>\n",
              "      <td>AFG</td>\n",
              "      <td>2018</td>\n",
              "      <td>51174</td>\n",
              "      <td>248689</td>\n",
              "      <td>292</td>\n",
              "      <td>1.0</td>\n",
              "      <td>31114</td>\n",
              "    </tr>\n",
              "    <tr>\n",
              "      <th>1</th>\n",
              "      <td>AFG</td>\n",
              "      <td>2019</td>\n",
              "      <td>1034</td>\n",
              "      <td>173860</td>\n",
              "      <td>170</td>\n",
              "      <td>0.6</td>\n",
              "      <td>169504</td>\n",
              "    </tr>\n",
              "    <tr>\n",
              "      <th>2</th>\n",
              "      <td>AFG</td>\n",
              "      <td>2020</td>\n",
              "      <td>150</td>\n",
              "      <td>105295</td>\n",
              "      <td>110</td>\n",
              "      <td>0.4</td>\n",
              "      <td>103466</td>\n",
              "    </tr>\n",
              "    <tr>\n",
              "      <th>3</th>\n",
              "      <td>AGO</td>\n",
              "      <td>2018</td>\n",
              "      <td>777685</td>\n",
              "      <td>5150575</td>\n",
              "      <td>13489</td>\n",
              "      <td>43.8</td>\n",
              "      <td>6092332</td>\n",
              "    </tr>\n",
              "    <tr>\n",
              "      <th>4</th>\n",
              "      <td>AGO</td>\n",
              "      <td>2019</td>\n",
              "      <td>475810</td>\n",
              "      <td>7054978</td>\n",
              "      <td>13622</td>\n",
              "      <td>42.8</td>\n",
              "      <td>5575259</td>\n",
              "    </tr>\n",
              "  </tbody>\n",
              "</table>\n",
              "</div>\n",
              "      <button class=\"colab-df-convert\" onclick=\"convertToInteractive('df-cb9dd340-8ed8-464a-9747-ef6c44d7343a')\"\n",
              "              title=\"Convert this dataframe to an interactive table.\"\n",
              "              style=\"display:none;\">\n",
              "        \n",
              "  <svg xmlns=\"http://www.w3.org/2000/svg\" height=\"24px\"viewBox=\"0 0 24 24\"\n",
              "       width=\"24px\">\n",
              "    <path d=\"M0 0h24v24H0V0z\" fill=\"none\"/>\n",
              "    <path d=\"M18.56 5.44l.94 2.06.94-2.06 2.06-.94-2.06-.94-.94-2.06-.94 2.06-2.06.94zm-11 1L8.5 8.5l.94-2.06 2.06-.94-2.06-.94L8.5 2.5l-.94 2.06-2.06.94zm10 10l.94 2.06.94-2.06 2.06-.94-2.06-.94-.94-2.06-.94 2.06-2.06.94z\"/><path d=\"M17.41 7.96l-1.37-1.37c-.4-.4-.92-.59-1.43-.59-.52 0-1.04.2-1.43.59L10.3 9.45l-7.72 7.72c-.78.78-.78 2.05 0 2.83L4 21.41c.39.39.9.59 1.41.59.51 0 1.02-.2 1.41-.59l7.78-7.78 2.81-2.81c.8-.78.8-2.07 0-2.86zM5.41 20L4 18.59l7.72-7.72 1.47 1.35L5.41 20z\"/>\n",
              "  </svg>\n",
              "      </button>\n",
              "      \n",
              "  <style>\n",
              "    .colab-df-container {\n",
              "      display:flex;\n",
              "      flex-wrap:wrap;\n",
              "      gap: 12px;\n",
              "    }\n",
              "\n",
              "    .colab-df-convert {\n",
              "      background-color: #E8F0FE;\n",
              "      border: none;\n",
              "      border-radius: 50%;\n",
              "      cursor: pointer;\n",
              "      display: none;\n",
              "      fill: #1967D2;\n",
              "      height: 32px;\n",
              "      padding: 0 0 0 0;\n",
              "      width: 32px;\n",
              "    }\n",
              "\n",
              "    .colab-df-convert:hover {\n",
              "      background-color: #E2EBFA;\n",
              "      box-shadow: 0px 1px 2px rgba(60, 64, 67, 0.3), 0px 1px 3px 1px rgba(60, 64, 67, 0.15);\n",
              "      fill: #174EA6;\n",
              "    }\n",
              "\n",
              "    [theme=dark] .colab-df-convert {\n",
              "      background-color: #3B4455;\n",
              "      fill: #D2E3FC;\n",
              "    }\n",
              "\n",
              "    [theme=dark] .colab-df-convert:hover {\n",
              "      background-color: #434B5C;\n",
              "      box-shadow: 0px 1px 3px 1px rgba(0, 0, 0, 0.15);\n",
              "      filter: drop-shadow(0px 1px 2px rgba(0, 0, 0, 0.3));\n",
              "      fill: #FFFFFF;\n",
              "    }\n",
              "  </style>\n",
              "\n",
              "      <script>\n",
              "        const buttonEl =\n",
              "          document.querySelector('#df-cb9dd340-8ed8-464a-9747-ef6c44d7343a button.colab-df-convert');\n",
              "        buttonEl.style.display =\n",
              "          google.colab.kernel.accessAllowed ? 'block' : 'none';\n",
              "\n",
              "        async function convertToInteractive(key) {\n",
              "          const element = document.querySelector('#df-cb9dd340-8ed8-464a-9747-ef6c44d7343a');\n",
              "          const dataTable =\n",
              "            await google.colab.kernel.invokeFunction('convertToInteractive',\n",
              "                                                     [key], {});\n",
              "          if (!dataTable) return;\n",
              "\n",
              "          const docLinkHtml = 'Like what you see? Visit the ' +\n",
              "            '<a target=\"_blank\" href=https://colab.research.google.com/notebooks/data_table.ipynb>data table notebook</a>'\n",
              "            + ' to learn more about interactive tables.';\n",
              "          element.innerHTML = '';\n",
              "          dataTable['output_type'] = 'display_data';\n",
              "          await google.colab.output.renderOutput(dataTable, element);\n",
              "          const docLink = document.createElement('div');\n",
              "          docLink.innerHTML = docLinkHtml;\n",
              "          element.appendChild(docLink);\n",
              "        }\n",
              "      </script>\n",
              "    </div>\n",
              "  </div>\n",
              "  "
            ]
          },
          "metadata": {},
          "execution_count": 166
        }
      ]
    },
    {
      "cell_type": "markdown",
      "source": [
        "Agregaremos la columna *total_cases* que será la suma de los casos presumidos y confirmados"
      ],
      "metadata": {
        "id": "pIKTT8JISOas"
      }
    },
    {
      "cell_type": "code",
      "source": [
        "df[\"total_cases\"] = df[\"presumed_cases\"] + df[\"confirmed_cases\"]"
      ],
      "metadata": {
        "id": "kouWU7IiSqKY"
      },
      "execution_count": null,
      "outputs": []
    },
    {
      "cell_type": "markdown",
      "source": [
        "Agregaremos la columna *treated_rate*, que será el porcentaje de casos atendidos con respecto al total de casos.\n",
        "\n",
        "Agregaremos el formato a esta columna para que solo despliegue 2 decimales"
      ],
      "metadata": {
        "id": "adQIpYRFSv2Q"
      }
    },
    {
      "cell_type": "code",
      "source": [
        "df[\"treated_rate\"] = df[\"treated_cases\"]/df[\"total_cases\"] * 100\n",
        "df[\"treated_rate\"] = df[\"treated_rate\"].apply(lambda n: round(n, 2))"
      ],
      "metadata": {
        "id": "7DNbtct7S6h0"
      },
      "execution_count": null,
      "outputs": []
    },
    {
      "cell_type": "markdown",
      "source": [
        "Se muestra el dataset final, ya correctamente procesado"
      ],
      "metadata": {
        "id": "Ll3nlf_T4IDW"
      }
    },
    {
      "cell_type": "code",
      "source": [
        "df.head()"
      ],
      "metadata": {
        "colab": {
          "base_uri": "https://localhost:8080/",
          "height": 206
        },
        "id": "LTiWD8Rx0LbL",
        "outputId": "4e5c16dd-fc00-49c6-ba12-1bae4fcf024a"
      },
      "execution_count": null,
      "outputs": [
        {
          "output_type": "execute_result",
          "data": {
            "text/plain": [
              "  country  year  presumed_cases  confirmed_cases  estimated_deaths  \\\n",
              "0     AFG  2018           51174           248689               292   \n",
              "1     AFG  2019            1034           173860               170   \n",
              "2     AFG  2020             150           105295               110   \n",
              "3     AGO  2018          777685          5150575             13489   \n",
              "4     AGO  2019          475810          7054978             13622   \n",
              "\n",
              "   mortality_rate  treated_cases  total_cases  treated_rate  \n",
              "0             1.0          31114       299863         10.38  \n",
              "1             0.6         169504       174894         96.92  \n",
              "2             0.4         103466       105445         98.12  \n",
              "3            43.8        6092332      5928260        102.77  \n",
              "4            42.8        5575259      7530788         74.03  "
            ],
            "text/html": [
              "\n",
              "  <div id=\"df-0d3912f9-ef64-47ff-8e2c-72817b43c54c\">\n",
              "    <div class=\"colab-df-container\">\n",
              "      <div>\n",
              "<style scoped>\n",
              "    .dataframe tbody tr th:only-of-type {\n",
              "        vertical-align: middle;\n",
              "    }\n",
              "\n",
              "    .dataframe tbody tr th {\n",
              "        vertical-align: top;\n",
              "    }\n",
              "\n",
              "    .dataframe thead th {\n",
              "        text-align: right;\n",
              "    }\n",
              "</style>\n",
              "<table border=\"1\" class=\"dataframe\">\n",
              "  <thead>\n",
              "    <tr style=\"text-align: right;\">\n",
              "      <th></th>\n",
              "      <th>country</th>\n",
              "      <th>year</th>\n",
              "      <th>presumed_cases</th>\n",
              "      <th>confirmed_cases</th>\n",
              "      <th>estimated_deaths</th>\n",
              "      <th>mortality_rate</th>\n",
              "      <th>treated_cases</th>\n",
              "      <th>total_cases</th>\n",
              "      <th>treated_rate</th>\n",
              "    </tr>\n",
              "  </thead>\n",
              "  <tbody>\n",
              "    <tr>\n",
              "      <th>0</th>\n",
              "      <td>AFG</td>\n",
              "      <td>2018</td>\n",
              "      <td>51174</td>\n",
              "      <td>248689</td>\n",
              "      <td>292</td>\n",
              "      <td>1.0</td>\n",
              "      <td>31114</td>\n",
              "      <td>299863</td>\n",
              "      <td>10.38</td>\n",
              "    </tr>\n",
              "    <tr>\n",
              "      <th>1</th>\n",
              "      <td>AFG</td>\n",
              "      <td>2019</td>\n",
              "      <td>1034</td>\n",
              "      <td>173860</td>\n",
              "      <td>170</td>\n",
              "      <td>0.6</td>\n",
              "      <td>169504</td>\n",
              "      <td>174894</td>\n",
              "      <td>96.92</td>\n",
              "    </tr>\n",
              "    <tr>\n",
              "      <th>2</th>\n",
              "      <td>AFG</td>\n",
              "      <td>2020</td>\n",
              "      <td>150</td>\n",
              "      <td>105295</td>\n",
              "      <td>110</td>\n",
              "      <td>0.4</td>\n",
              "      <td>103466</td>\n",
              "      <td>105445</td>\n",
              "      <td>98.12</td>\n",
              "    </tr>\n",
              "    <tr>\n",
              "      <th>3</th>\n",
              "      <td>AGO</td>\n",
              "      <td>2018</td>\n",
              "      <td>777685</td>\n",
              "      <td>5150575</td>\n",
              "      <td>13489</td>\n",
              "      <td>43.8</td>\n",
              "      <td>6092332</td>\n",
              "      <td>5928260</td>\n",
              "      <td>102.77</td>\n",
              "    </tr>\n",
              "    <tr>\n",
              "      <th>4</th>\n",
              "      <td>AGO</td>\n",
              "      <td>2019</td>\n",
              "      <td>475810</td>\n",
              "      <td>7054978</td>\n",
              "      <td>13622</td>\n",
              "      <td>42.8</td>\n",
              "      <td>5575259</td>\n",
              "      <td>7530788</td>\n",
              "      <td>74.03</td>\n",
              "    </tr>\n",
              "  </tbody>\n",
              "</table>\n",
              "</div>\n",
              "      <button class=\"colab-df-convert\" onclick=\"convertToInteractive('df-0d3912f9-ef64-47ff-8e2c-72817b43c54c')\"\n",
              "              title=\"Convert this dataframe to an interactive table.\"\n",
              "              style=\"display:none;\">\n",
              "        \n",
              "  <svg xmlns=\"http://www.w3.org/2000/svg\" height=\"24px\"viewBox=\"0 0 24 24\"\n",
              "       width=\"24px\">\n",
              "    <path d=\"M0 0h24v24H0V0z\" fill=\"none\"/>\n",
              "    <path d=\"M18.56 5.44l.94 2.06.94-2.06 2.06-.94-2.06-.94-.94-2.06-.94 2.06-2.06.94zm-11 1L8.5 8.5l.94-2.06 2.06-.94-2.06-.94L8.5 2.5l-.94 2.06-2.06.94zm10 10l.94 2.06.94-2.06 2.06-.94-2.06-.94-.94-2.06-.94 2.06-2.06.94z\"/><path d=\"M17.41 7.96l-1.37-1.37c-.4-.4-.92-.59-1.43-.59-.52 0-1.04.2-1.43.59L10.3 9.45l-7.72 7.72c-.78.78-.78 2.05 0 2.83L4 21.41c.39.39.9.59 1.41.59.51 0 1.02-.2 1.41-.59l7.78-7.78 2.81-2.81c.8-.78.8-2.07 0-2.86zM5.41 20L4 18.59l7.72-7.72 1.47 1.35L5.41 20z\"/>\n",
              "  </svg>\n",
              "      </button>\n",
              "      \n",
              "  <style>\n",
              "    .colab-df-container {\n",
              "      display:flex;\n",
              "      flex-wrap:wrap;\n",
              "      gap: 12px;\n",
              "    }\n",
              "\n",
              "    .colab-df-convert {\n",
              "      background-color: #E8F0FE;\n",
              "      border: none;\n",
              "      border-radius: 50%;\n",
              "      cursor: pointer;\n",
              "      display: none;\n",
              "      fill: #1967D2;\n",
              "      height: 32px;\n",
              "      padding: 0 0 0 0;\n",
              "      width: 32px;\n",
              "    }\n",
              "\n",
              "    .colab-df-convert:hover {\n",
              "      background-color: #E2EBFA;\n",
              "      box-shadow: 0px 1px 2px rgba(60, 64, 67, 0.3), 0px 1px 3px 1px rgba(60, 64, 67, 0.15);\n",
              "      fill: #174EA6;\n",
              "    }\n",
              "\n",
              "    [theme=dark] .colab-df-convert {\n",
              "      background-color: #3B4455;\n",
              "      fill: #D2E3FC;\n",
              "    }\n",
              "\n",
              "    [theme=dark] .colab-df-convert:hover {\n",
              "      background-color: #434B5C;\n",
              "      box-shadow: 0px 1px 3px 1px rgba(0, 0, 0, 0.15);\n",
              "      filter: drop-shadow(0px 1px 2px rgba(0, 0, 0, 0.3));\n",
              "      fill: #FFFFFF;\n",
              "    }\n",
              "  </style>\n",
              "\n",
              "      <script>\n",
              "        const buttonEl =\n",
              "          document.querySelector('#df-0d3912f9-ef64-47ff-8e2c-72817b43c54c button.colab-df-convert');\n",
              "        buttonEl.style.display =\n",
              "          google.colab.kernel.accessAllowed ? 'block' : 'none';\n",
              "\n",
              "        async function convertToInteractive(key) {\n",
              "          const element = document.querySelector('#df-0d3912f9-ef64-47ff-8e2c-72817b43c54c');\n",
              "          const dataTable =\n",
              "            await google.colab.kernel.invokeFunction('convertToInteractive',\n",
              "                                                     [key], {});\n",
              "          if (!dataTable) return;\n",
              "\n",
              "          const docLinkHtml = 'Like what you see? Visit the ' +\n",
              "            '<a target=\"_blank\" href=https://colab.research.google.com/notebooks/data_table.ipynb>data table notebook</a>'\n",
              "            + ' to learn more about interactive tables.';\n",
              "          element.innerHTML = '';\n",
              "          dataTable['output_type'] = 'display_data';\n",
              "          await google.colab.output.renderOutput(dataTable, element);\n",
              "          const docLink = document.createElement('div');\n",
              "          docLink.innerHTML = docLinkHtml;\n",
              "          element.appendChild(docLink);\n",
              "        }\n",
              "      </script>\n",
              "    </div>\n",
              "  </div>\n",
              "  "
            ]
          },
          "metadata": {},
          "execution_count": 169
        }
      ]
    },
    {
      "cell_type": "markdown",
      "source": [
        "# Solución de preguntas"
      ],
      "metadata": {
        "id": "p0RiU1E9pbLN"
      }
    },
    {
      "cell_type": "markdown",
      "source": [
        "A continuación resolveremos las preguntas planteadas en un inicio"
      ],
      "metadata": {
        "id": "Hu2Apce0peFf"
      }
    },
    {
      "cell_type": "markdown",
      "source": [
        "1. ¿Cuáles son los países con mayor número de casos de malaria?"
      ],
      "metadata": {
        "id": "G5mbpjl9p4Ih"
      }
    },
    {
      "cell_type": "markdown",
      "source": [
        "Agrupamos los datos por pais y obtenemos la suma del total de casos durante los 3 años"
      ],
      "metadata": {
        "id": "bAMSnh6DrUyc"
      }
    },
    {
      "cell_type": "code",
      "source": [
        "cases = df.groupby(\"country\").agg({\"total_cases\":sum})"
      ],
      "metadata": {
        "id": "rWPybdBGpl58"
      },
      "execution_count": null,
      "outputs": []
    },
    {
      "cell_type": "markdown",
      "source": [
        "Ordenamos los datos por cantidad de casos de manera descendente"
      ],
      "metadata": {
        "id": "Ohwunuyys8YK"
      }
    },
    {
      "cell_type": "code",
      "source": [
        "cases = cases.sort_values(\"total_cases\", ascending=False)"
      ],
      "metadata": {
        "id": "k8euSgz2tAeZ"
      },
      "execution_count": null,
      "outputs": []
    },
    {
      "cell_type": "markdown",
      "source": [
        "Identificamos el top de 5 países con mayor cantidad de casos y la cantidad de casos"
      ],
      "metadata": {
        "id": "7H5pNZF_sSKX"
      }
    },
    {
      "cell_type": "code",
      "source": [
        "cases.iloc[0:5]"
      ],
      "metadata": {
        "colab": {
          "base_uri": "https://localhost:8080/",
          "height": 238
        },
        "id": "YYCg2ELEsdc7",
        "outputId": "d48b0aac-8692-4bbe-ad82-85b6a07a558c"
      },
      "execution_count": null,
      "outputs": [
        {
          "output_type": "execute_result",
          "data": {
            "text/plain": [
              "         total_cases\n",
              "country             \n",
              "NGA         65439228\n",
              "COD         43168437\n",
              "UGA         39458178\n",
              "MOZ         33451855\n",
              "BFA         30033871"
            ],
            "text/html": [
              "\n",
              "  <div id=\"df-e051b03a-57d9-4e98-8dac-ea26bbc18193\">\n",
              "    <div class=\"colab-df-container\">\n",
              "      <div>\n",
              "<style scoped>\n",
              "    .dataframe tbody tr th:only-of-type {\n",
              "        vertical-align: middle;\n",
              "    }\n",
              "\n",
              "    .dataframe tbody tr th {\n",
              "        vertical-align: top;\n",
              "    }\n",
              "\n",
              "    .dataframe thead th {\n",
              "        text-align: right;\n",
              "    }\n",
              "</style>\n",
              "<table border=\"1\" class=\"dataframe\">\n",
              "  <thead>\n",
              "    <tr style=\"text-align: right;\">\n",
              "      <th></th>\n",
              "      <th>total_cases</th>\n",
              "    </tr>\n",
              "    <tr>\n",
              "      <th>country</th>\n",
              "      <th></th>\n",
              "    </tr>\n",
              "  </thead>\n",
              "  <tbody>\n",
              "    <tr>\n",
              "      <th>NGA</th>\n",
              "      <td>65439228</td>\n",
              "    </tr>\n",
              "    <tr>\n",
              "      <th>COD</th>\n",
              "      <td>43168437</td>\n",
              "    </tr>\n",
              "    <tr>\n",
              "      <th>UGA</th>\n",
              "      <td>39458178</td>\n",
              "    </tr>\n",
              "    <tr>\n",
              "      <th>MOZ</th>\n",
              "      <td>33451855</td>\n",
              "    </tr>\n",
              "    <tr>\n",
              "      <th>BFA</th>\n",
              "      <td>30033871</td>\n",
              "    </tr>\n",
              "  </tbody>\n",
              "</table>\n",
              "</div>\n",
              "      <button class=\"colab-df-convert\" onclick=\"convertToInteractive('df-e051b03a-57d9-4e98-8dac-ea26bbc18193')\"\n",
              "              title=\"Convert this dataframe to an interactive table.\"\n",
              "              style=\"display:none;\">\n",
              "        \n",
              "  <svg xmlns=\"http://www.w3.org/2000/svg\" height=\"24px\"viewBox=\"0 0 24 24\"\n",
              "       width=\"24px\">\n",
              "    <path d=\"M0 0h24v24H0V0z\" fill=\"none\"/>\n",
              "    <path d=\"M18.56 5.44l.94 2.06.94-2.06 2.06-.94-2.06-.94-.94-2.06-.94 2.06-2.06.94zm-11 1L8.5 8.5l.94-2.06 2.06-.94-2.06-.94L8.5 2.5l-.94 2.06-2.06.94zm10 10l.94 2.06.94-2.06 2.06-.94-2.06-.94-.94-2.06-.94 2.06-2.06.94z\"/><path d=\"M17.41 7.96l-1.37-1.37c-.4-.4-.92-.59-1.43-.59-.52 0-1.04.2-1.43.59L10.3 9.45l-7.72 7.72c-.78.78-.78 2.05 0 2.83L4 21.41c.39.39.9.59 1.41.59.51 0 1.02-.2 1.41-.59l7.78-7.78 2.81-2.81c.8-.78.8-2.07 0-2.86zM5.41 20L4 18.59l7.72-7.72 1.47 1.35L5.41 20z\"/>\n",
              "  </svg>\n",
              "      </button>\n",
              "      \n",
              "  <style>\n",
              "    .colab-df-container {\n",
              "      display:flex;\n",
              "      flex-wrap:wrap;\n",
              "      gap: 12px;\n",
              "    }\n",
              "\n",
              "    .colab-df-convert {\n",
              "      background-color: #E8F0FE;\n",
              "      border: none;\n",
              "      border-radius: 50%;\n",
              "      cursor: pointer;\n",
              "      display: none;\n",
              "      fill: #1967D2;\n",
              "      height: 32px;\n",
              "      padding: 0 0 0 0;\n",
              "      width: 32px;\n",
              "    }\n",
              "\n",
              "    .colab-df-convert:hover {\n",
              "      background-color: #E2EBFA;\n",
              "      box-shadow: 0px 1px 2px rgba(60, 64, 67, 0.3), 0px 1px 3px 1px rgba(60, 64, 67, 0.15);\n",
              "      fill: #174EA6;\n",
              "    }\n",
              "\n",
              "    [theme=dark] .colab-df-convert {\n",
              "      background-color: #3B4455;\n",
              "      fill: #D2E3FC;\n",
              "    }\n",
              "\n",
              "    [theme=dark] .colab-df-convert:hover {\n",
              "      background-color: #434B5C;\n",
              "      box-shadow: 0px 1px 3px 1px rgba(0, 0, 0, 0.15);\n",
              "      filter: drop-shadow(0px 1px 2px rgba(0, 0, 0, 0.3));\n",
              "      fill: #FFFFFF;\n",
              "    }\n",
              "  </style>\n",
              "\n",
              "      <script>\n",
              "        const buttonEl =\n",
              "          document.querySelector('#df-e051b03a-57d9-4e98-8dac-ea26bbc18193 button.colab-df-convert');\n",
              "        buttonEl.style.display =\n",
              "          google.colab.kernel.accessAllowed ? 'block' : 'none';\n",
              "\n",
              "        async function convertToInteractive(key) {\n",
              "          const element = document.querySelector('#df-e051b03a-57d9-4e98-8dac-ea26bbc18193');\n",
              "          const dataTable =\n",
              "            await google.colab.kernel.invokeFunction('convertToInteractive',\n",
              "                                                     [key], {});\n",
              "          if (!dataTable) return;\n",
              "\n",
              "          const docLinkHtml = 'Like what you see? Visit the ' +\n",
              "            '<a target=\"_blank\" href=https://colab.research.google.com/notebooks/data_table.ipynb>data table notebook</a>'\n",
              "            + ' to learn more about interactive tables.';\n",
              "          element.innerHTML = '';\n",
              "          dataTable['output_type'] = 'display_data';\n",
              "          await google.colab.output.renderOutput(dataTable, element);\n",
              "          const docLink = document.createElement('div');\n",
              "          docLink.innerHTML = docLinkHtml;\n",
              "          element.appendChild(docLink);\n",
              "        }\n",
              "      </script>\n",
              "    </div>\n",
              "  </div>\n",
              "  "
            ]
          },
          "metadata": {},
          "execution_count": 172
        }
      ]
    },
    {
      "cell_type": "markdown",
      "source": [
        "Los países con más casos son Nigeria, República Democrática del Congo, Uganda, Mozambique y Burkina Faso"
      ],
      "metadata": {
        "id": "Jt5TO_mCCZHi"
      }
    },
    {
      "cell_type": "markdown",
      "source": [
        "2. ¿Cuáles son los países con menor número de casos de malaria?"
      ],
      "metadata": {
        "id": "8NYMIUzaw5sL"
      }
    },
    {
      "cell_type": "markdown",
      "source": [
        "Identificamos el top de 5 países con mayor cantidad de casos y la cantidad de casos"
      ],
      "metadata": {
        "id": "yp6g_lfExEwi"
      }
    },
    {
      "cell_type": "code",
      "source": [
        "cases = cases.sort_values(\"total_cases\", ascending=True)\n",
        "cases.iloc[0:5]"
      ],
      "metadata": {
        "colab": {
          "base_uri": "https://localhost:8080/",
          "height": 238
        },
        "id": "u1s8dhWgxII1",
        "outputId": "89fe596e-fa19-499a-cb60-0205b8dfe2d3"
      },
      "execution_count": null,
      "outputs": [
        {
          "output_type": "execute_result",
          "data": {
            "text/plain": [
              "         total_cases\n",
              "country             \n",
              "PRY                0\n",
              "AZE                2\n",
              "UZB                3\n",
              "TJK                4\n",
              "SLV                5"
            ],
            "text/html": [
              "\n",
              "  <div id=\"df-313efdc3-abd6-4f9c-ab06-c3a4d25589a9\">\n",
              "    <div class=\"colab-df-container\">\n",
              "      <div>\n",
              "<style scoped>\n",
              "    .dataframe tbody tr th:only-of-type {\n",
              "        vertical-align: middle;\n",
              "    }\n",
              "\n",
              "    .dataframe tbody tr th {\n",
              "        vertical-align: top;\n",
              "    }\n",
              "\n",
              "    .dataframe thead th {\n",
              "        text-align: right;\n",
              "    }\n",
              "</style>\n",
              "<table border=\"1\" class=\"dataframe\">\n",
              "  <thead>\n",
              "    <tr style=\"text-align: right;\">\n",
              "      <th></th>\n",
              "      <th>total_cases</th>\n",
              "    </tr>\n",
              "    <tr>\n",
              "      <th>country</th>\n",
              "      <th></th>\n",
              "    </tr>\n",
              "  </thead>\n",
              "  <tbody>\n",
              "    <tr>\n",
              "      <th>PRY</th>\n",
              "      <td>0</td>\n",
              "    </tr>\n",
              "    <tr>\n",
              "      <th>AZE</th>\n",
              "      <td>2</td>\n",
              "    </tr>\n",
              "    <tr>\n",
              "      <th>UZB</th>\n",
              "      <td>3</td>\n",
              "    </tr>\n",
              "    <tr>\n",
              "      <th>TJK</th>\n",
              "      <td>4</td>\n",
              "    </tr>\n",
              "    <tr>\n",
              "      <th>SLV</th>\n",
              "      <td>5</td>\n",
              "    </tr>\n",
              "  </tbody>\n",
              "</table>\n",
              "</div>\n",
              "      <button class=\"colab-df-convert\" onclick=\"convertToInteractive('df-313efdc3-abd6-4f9c-ab06-c3a4d25589a9')\"\n",
              "              title=\"Convert this dataframe to an interactive table.\"\n",
              "              style=\"display:none;\">\n",
              "        \n",
              "  <svg xmlns=\"http://www.w3.org/2000/svg\" height=\"24px\"viewBox=\"0 0 24 24\"\n",
              "       width=\"24px\">\n",
              "    <path d=\"M0 0h24v24H0V0z\" fill=\"none\"/>\n",
              "    <path d=\"M18.56 5.44l.94 2.06.94-2.06 2.06-.94-2.06-.94-.94-2.06-.94 2.06-2.06.94zm-11 1L8.5 8.5l.94-2.06 2.06-.94-2.06-.94L8.5 2.5l-.94 2.06-2.06.94zm10 10l.94 2.06.94-2.06 2.06-.94-2.06-.94-.94-2.06-.94 2.06-2.06.94z\"/><path d=\"M17.41 7.96l-1.37-1.37c-.4-.4-.92-.59-1.43-.59-.52 0-1.04.2-1.43.59L10.3 9.45l-7.72 7.72c-.78.78-.78 2.05 0 2.83L4 21.41c.39.39.9.59 1.41.59.51 0 1.02-.2 1.41-.59l7.78-7.78 2.81-2.81c.8-.78.8-2.07 0-2.86zM5.41 20L4 18.59l7.72-7.72 1.47 1.35L5.41 20z\"/>\n",
              "  </svg>\n",
              "      </button>\n",
              "      \n",
              "  <style>\n",
              "    .colab-df-container {\n",
              "      display:flex;\n",
              "      flex-wrap:wrap;\n",
              "      gap: 12px;\n",
              "    }\n",
              "\n",
              "    .colab-df-convert {\n",
              "      background-color: #E8F0FE;\n",
              "      border: none;\n",
              "      border-radius: 50%;\n",
              "      cursor: pointer;\n",
              "      display: none;\n",
              "      fill: #1967D2;\n",
              "      height: 32px;\n",
              "      padding: 0 0 0 0;\n",
              "      width: 32px;\n",
              "    }\n",
              "\n",
              "    .colab-df-convert:hover {\n",
              "      background-color: #E2EBFA;\n",
              "      box-shadow: 0px 1px 2px rgba(60, 64, 67, 0.3), 0px 1px 3px 1px rgba(60, 64, 67, 0.15);\n",
              "      fill: #174EA6;\n",
              "    }\n",
              "\n",
              "    [theme=dark] .colab-df-convert {\n",
              "      background-color: #3B4455;\n",
              "      fill: #D2E3FC;\n",
              "    }\n",
              "\n",
              "    [theme=dark] .colab-df-convert:hover {\n",
              "      background-color: #434B5C;\n",
              "      box-shadow: 0px 1px 3px 1px rgba(0, 0, 0, 0.15);\n",
              "      filter: drop-shadow(0px 1px 2px rgba(0, 0, 0, 0.3));\n",
              "      fill: #FFFFFF;\n",
              "    }\n",
              "  </style>\n",
              "\n",
              "      <script>\n",
              "        const buttonEl =\n",
              "          document.querySelector('#df-313efdc3-abd6-4f9c-ab06-c3a4d25589a9 button.colab-df-convert');\n",
              "        buttonEl.style.display =\n",
              "          google.colab.kernel.accessAllowed ? 'block' : 'none';\n",
              "\n",
              "        async function convertToInteractive(key) {\n",
              "          const element = document.querySelector('#df-313efdc3-abd6-4f9c-ab06-c3a4d25589a9');\n",
              "          const dataTable =\n",
              "            await google.colab.kernel.invokeFunction('convertToInteractive',\n",
              "                                                     [key], {});\n",
              "          if (!dataTable) return;\n",
              "\n",
              "          const docLinkHtml = 'Like what you see? Visit the ' +\n",
              "            '<a target=\"_blank\" href=https://colab.research.google.com/notebooks/data_table.ipynb>data table notebook</a>'\n",
              "            + ' to learn more about interactive tables.';\n",
              "          element.innerHTML = '';\n",
              "          dataTable['output_type'] = 'display_data';\n",
              "          await google.colab.output.renderOutput(dataTable, element);\n",
              "          const docLink = document.createElement('div');\n",
              "          docLink.innerHTML = docLinkHtml;\n",
              "          element.appendChild(docLink);\n",
              "        }\n",
              "      </script>\n",
              "    </div>\n",
              "  </div>\n",
              "  "
            ]
          },
          "metadata": {},
          "execution_count": 173
        }
      ]
    },
    {
      "cell_type": "markdown",
      "source": [
        "Los países con menos casos son Paraguay, Azerbaijan, Uzbekistán, Taijikistán y El Salvador"
      ],
      "metadata": {
        "id": "uiCnEuQ5Cp60"
      }
    },
    {
      "cell_type": "markdown",
      "source": [
        "3. ¿En qué países la malaria ha ocasionado mayor número de muertes respecto a la cantidad de infectados?"
      ],
      "metadata": {
        "id": "dDbe06-oxqzH"
      }
    },
    {
      "cell_type": "markdown",
      "source": [
        "Agrupamos los datos por pais y obtenemos el promedio de la tasa de mortalidad durante el periodo"
      ],
      "metadata": {
        "id": "QRElYOKEyySg"
      }
    },
    {
      "cell_type": "code",
      "source": [
        "deaths =  df.groupby(\"country\").agg({\"mortality_rate\":np.mean})"
      ],
      "metadata": {
        "id": "fRN8t8MPxwVI"
      },
      "execution_count": null,
      "outputs": []
    },
    {
      "cell_type": "markdown",
      "source": [
        "Ordenamos los datos de forma descendente"
      ],
      "metadata": {
        "id": "jLPSNEPLy_Sw"
      }
    },
    {
      "cell_type": "code",
      "source": [
        "deaths = deaths.sort_values(\"mortality_rate\", ascending=False)"
      ],
      "metadata": {
        "id": "P9rwG5B6zAFO"
      },
      "execution_count": null,
      "outputs": []
    },
    {
      "cell_type": "markdown",
      "source": [
        "Identificamos el top de 5 países con mayor tasa promedio de mortalidad"
      ],
      "metadata": {
        "id": "apABIqfUzJn0"
      }
    },
    {
      "cell_type": "code",
      "source": [
        "deaths.iloc[0:5]"
      ],
      "metadata": {
        "colab": {
          "base_uri": "https://localhost:8080/",
          "height": 238
        },
        "id": "mSRVytfUzOEv",
        "outputId": "56533513-ef4f-44bb-fb8c-c19c78336aed"
      },
      "execution_count": null,
      "outputs": [
        {
          "output_type": "execute_result",
          "data": {
            "text/plain": [
              "         mortality_rate\n",
              "country                \n",
              "CAF           98.866667\n",
              "NGA           95.200000\n",
              "BFA           94.900000\n",
              "SLE           94.033333\n",
              "MLI           91.866667"
            ],
            "text/html": [
              "\n",
              "  <div id=\"df-c6cf6bfb-fa1c-467f-a3a4-ca603ce5e175\">\n",
              "    <div class=\"colab-df-container\">\n",
              "      <div>\n",
              "<style scoped>\n",
              "    .dataframe tbody tr th:only-of-type {\n",
              "        vertical-align: middle;\n",
              "    }\n",
              "\n",
              "    .dataframe tbody tr th {\n",
              "        vertical-align: top;\n",
              "    }\n",
              "\n",
              "    .dataframe thead th {\n",
              "        text-align: right;\n",
              "    }\n",
              "</style>\n",
              "<table border=\"1\" class=\"dataframe\">\n",
              "  <thead>\n",
              "    <tr style=\"text-align: right;\">\n",
              "      <th></th>\n",
              "      <th>mortality_rate</th>\n",
              "    </tr>\n",
              "    <tr>\n",
              "      <th>country</th>\n",
              "      <th></th>\n",
              "    </tr>\n",
              "  </thead>\n",
              "  <tbody>\n",
              "    <tr>\n",
              "      <th>CAF</th>\n",
              "      <td>98.866667</td>\n",
              "    </tr>\n",
              "    <tr>\n",
              "      <th>NGA</th>\n",
              "      <td>95.200000</td>\n",
              "    </tr>\n",
              "    <tr>\n",
              "      <th>BFA</th>\n",
              "      <td>94.900000</td>\n",
              "    </tr>\n",
              "    <tr>\n",
              "      <th>SLE</th>\n",
              "      <td>94.033333</td>\n",
              "    </tr>\n",
              "    <tr>\n",
              "      <th>MLI</th>\n",
              "      <td>91.866667</td>\n",
              "    </tr>\n",
              "  </tbody>\n",
              "</table>\n",
              "</div>\n",
              "      <button class=\"colab-df-convert\" onclick=\"convertToInteractive('df-c6cf6bfb-fa1c-467f-a3a4-ca603ce5e175')\"\n",
              "              title=\"Convert this dataframe to an interactive table.\"\n",
              "              style=\"display:none;\">\n",
              "        \n",
              "  <svg xmlns=\"http://www.w3.org/2000/svg\" height=\"24px\"viewBox=\"0 0 24 24\"\n",
              "       width=\"24px\">\n",
              "    <path d=\"M0 0h24v24H0V0z\" fill=\"none\"/>\n",
              "    <path d=\"M18.56 5.44l.94 2.06.94-2.06 2.06-.94-2.06-.94-.94-2.06-.94 2.06-2.06.94zm-11 1L8.5 8.5l.94-2.06 2.06-.94-2.06-.94L8.5 2.5l-.94 2.06-2.06.94zm10 10l.94 2.06.94-2.06 2.06-.94-2.06-.94-.94-2.06-.94 2.06-2.06.94z\"/><path d=\"M17.41 7.96l-1.37-1.37c-.4-.4-.92-.59-1.43-.59-.52 0-1.04.2-1.43.59L10.3 9.45l-7.72 7.72c-.78.78-.78 2.05 0 2.83L4 21.41c.39.39.9.59 1.41.59.51 0 1.02-.2 1.41-.59l7.78-7.78 2.81-2.81c.8-.78.8-2.07 0-2.86zM5.41 20L4 18.59l7.72-7.72 1.47 1.35L5.41 20z\"/>\n",
              "  </svg>\n",
              "      </button>\n",
              "      \n",
              "  <style>\n",
              "    .colab-df-container {\n",
              "      display:flex;\n",
              "      flex-wrap:wrap;\n",
              "      gap: 12px;\n",
              "    }\n",
              "\n",
              "    .colab-df-convert {\n",
              "      background-color: #E8F0FE;\n",
              "      border: none;\n",
              "      border-radius: 50%;\n",
              "      cursor: pointer;\n",
              "      display: none;\n",
              "      fill: #1967D2;\n",
              "      height: 32px;\n",
              "      padding: 0 0 0 0;\n",
              "      width: 32px;\n",
              "    }\n",
              "\n",
              "    .colab-df-convert:hover {\n",
              "      background-color: #E2EBFA;\n",
              "      box-shadow: 0px 1px 2px rgba(60, 64, 67, 0.3), 0px 1px 3px 1px rgba(60, 64, 67, 0.15);\n",
              "      fill: #174EA6;\n",
              "    }\n",
              "\n",
              "    [theme=dark] .colab-df-convert {\n",
              "      background-color: #3B4455;\n",
              "      fill: #D2E3FC;\n",
              "    }\n",
              "\n",
              "    [theme=dark] .colab-df-convert:hover {\n",
              "      background-color: #434B5C;\n",
              "      box-shadow: 0px 1px 3px 1px rgba(0, 0, 0, 0.15);\n",
              "      filter: drop-shadow(0px 1px 2px rgba(0, 0, 0, 0.3));\n",
              "      fill: #FFFFFF;\n",
              "    }\n",
              "  </style>\n",
              "\n",
              "      <script>\n",
              "        const buttonEl =\n",
              "          document.querySelector('#df-c6cf6bfb-fa1c-467f-a3a4-ca603ce5e175 button.colab-df-convert');\n",
              "        buttonEl.style.display =\n",
              "          google.colab.kernel.accessAllowed ? 'block' : 'none';\n",
              "\n",
              "        async function convertToInteractive(key) {\n",
              "          const element = document.querySelector('#df-c6cf6bfb-fa1c-467f-a3a4-ca603ce5e175');\n",
              "          const dataTable =\n",
              "            await google.colab.kernel.invokeFunction('convertToInteractive',\n",
              "                                                     [key], {});\n",
              "          if (!dataTable) return;\n",
              "\n",
              "          const docLinkHtml = 'Like what you see? Visit the ' +\n",
              "            '<a target=\"_blank\" href=https://colab.research.google.com/notebooks/data_table.ipynb>data table notebook</a>'\n",
              "            + ' to learn more about interactive tables.';\n",
              "          element.innerHTML = '';\n",
              "          dataTable['output_type'] = 'display_data';\n",
              "          await google.colab.output.renderOutput(dataTable, element);\n",
              "          const docLink = document.createElement('div');\n",
              "          docLink.innerHTML = docLinkHtml;\n",
              "          element.appendChild(docLink);\n",
              "        }\n",
              "      </script>\n",
              "    </div>\n",
              "  </div>\n",
              "  "
            ]
          },
          "metadata": {},
          "execution_count": 176
        }
      ]
    },
    {
      "cell_type": "markdown",
      "source": [
        "Los países con mayor proporción de muertes son la República Centroafricana, Nigeria, Burkina Faso, Sierra Leona y Mali"
      ],
      "metadata": {
        "id": "qZ6IIvcAC8u7"
      }
    },
    {
      "cell_type": "markdown",
      "source": [
        "4. ¿En qué países la malaria ha ocasionado menor número de muertes respecto a la cantidad de infectados?"
      ],
      "metadata": {
        "id": "e0Iban1rxP-g"
      }
    },
    {
      "cell_type": "markdown",
      "source": [
        "Identificamos el top de 5 países con menor tasa promedio de mortalidad"
      ],
      "metadata": {
        "id": "uXCyUBdkzv2O"
      }
    },
    {
      "cell_type": "code",
      "source": [
        "deaths = deaths.sort_values(\"mortality_rate\", ascending=True)\n",
        "deaths.iloc[0:5]"
      ],
      "metadata": {
        "colab": {
          "base_uri": "https://localhost:8080/",
          "height": 238
        },
        "id": "QdYzeHlbzvGY",
        "outputId": "b3c08d31-0e26-43df-98c0-4444365bc713"
      },
      "execution_count": null,
      "outputs": [
        {
          "output_type": "execute_result",
          "data": {
            "text/plain": [
              "         mortality_rate\n",
              "country                \n",
              "PAN                 0.0\n",
              "SWZ                 0.0\n",
              "SUR                 0.0\n",
              "STP                 0.0\n",
              "ARM                 0.0"
            ],
            "text/html": [
              "\n",
              "  <div id=\"df-acddeaef-e99b-45eb-b91b-ce7148f89396\">\n",
              "    <div class=\"colab-df-container\">\n",
              "      <div>\n",
              "<style scoped>\n",
              "    .dataframe tbody tr th:only-of-type {\n",
              "        vertical-align: middle;\n",
              "    }\n",
              "\n",
              "    .dataframe tbody tr th {\n",
              "        vertical-align: top;\n",
              "    }\n",
              "\n",
              "    .dataframe thead th {\n",
              "        text-align: right;\n",
              "    }\n",
              "</style>\n",
              "<table border=\"1\" class=\"dataframe\">\n",
              "  <thead>\n",
              "    <tr style=\"text-align: right;\">\n",
              "      <th></th>\n",
              "      <th>mortality_rate</th>\n",
              "    </tr>\n",
              "    <tr>\n",
              "      <th>country</th>\n",
              "      <th></th>\n",
              "    </tr>\n",
              "  </thead>\n",
              "  <tbody>\n",
              "    <tr>\n",
              "      <th>PAN</th>\n",
              "      <td>0.0</td>\n",
              "    </tr>\n",
              "    <tr>\n",
              "      <th>SWZ</th>\n",
              "      <td>0.0</td>\n",
              "    </tr>\n",
              "    <tr>\n",
              "      <th>SUR</th>\n",
              "      <td>0.0</td>\n",
              "    </tr>\n",
              "    <tr>\n",
              "      <th>STP</th>\n",
              "      <td>0.0</td>\n",
              "    </tr>\n",
              "    <tr>\n",
              "      <th>ARM</th>\n",
              "      <td>0.0</td>\n",
              "    </tr>\n",
              "  </tbody>\n",
              "</table>\n",
              "</div>\n",
              "      <button class=\"colab-df-convert\" onclick=\"convertToInteractive('df-acddeaef-e99b-45eb-b91b-ce7148f89396')\"\n",
              "              title=\"Convert this dataframe to an interactive table.\"\n",
              "              style=\"display:none;\">\n",
              "        \n",
              "  <svg xmlns=\"http://www.w3.org/2000/svg\" height=\"24px\"viewBox=\"0 0 24 24\"\n",
              "       width=\"24px\">\n",
              "    <path d=\"M0 0h24v24H0V0z\" fill=\"none\"/>\n",
              "    <path d=\"M18.56 5.44l.94 2.06.94-2.06 2.06-.94-2.06-.94-.94-2.06-.94 2.06-2.06.94zm-11 1L8.5 8.5l.94-2.06 2.06-.94-2.06-.94L8.5 2.5l-.94 2.06-2.06.94zm10 10l.94 2.06.94-2.06 2.06-.94-2.06-.94-.94-2.06-.94 2.06-2.06.94z\"/><path d=\"M17.41 7.96l-1.37-1.37c-.4-.4-.92-.59-1.43-.59-.52 0-1.04.2-1.43.59L10.3 9.45l-7.72 7.72c-.78.78-.78 2.05 0 2.83L4 21.41c.39.39.9.59 1.41.59.51 0 1.02-.2 1.41-.59l7.78-7.78 2.81-2.81c.8-.78.8-2.07 0-2.86zM5.41 20L4 18.59l7.72-7.72 1.47 1.35L5.41 20z\"/>\n",
              "  </svg>\n",
              "      </button>\n",
              "      \n",
              "  <style>\n",
              "    .colab-df-container {\n",
              "      display:flex;\n",
              "      flex-wrap:wrap;\n",
              "      gap: 12px;\n",
              "    }\n",
              "\n",
              "    .colab-df-convert {\n",
              "      background-color: #E8F0FE;\n",
              "      border: none;\n",
              "      border-radius: 50%;\n",
              "      cursor: pointer;\n",
              "      display: none;\n",
              "      fill: #1967D2;\n",
              "      height: 32px;\n",
              "      padding: 0 0 0 0;\n",
              "      width: 32px;\n",
              "    }\n",
              "\n",
              "    .colab-df-convert:hover {\n",
              "      background-color: #E2EBFA;\n",
              "      box-shadow: 0px 1px 2px rgba(60, 64, 67, 0.3), 0px 1px 3px 1px rgba(60, 64, 67, 0.15);\n",
              "      fill: #174EA6;\n",
              "    }\n",
              "\n",
              "    [theme=dark] .colab-df-convert {\n",
              "      background-color: #3B4455;\n",
              "      fill: #D2E3FC;\n",
              "    }\n",
              "\n",
              "    [theme=dark] .colab-df-convert:hover {\n",
              "      background-color: #434B5C;\n",
              "      box-shadow: 0px 1px 3px 1px rgba(0, 0, 0, 0.15);\n",
              "      filter: drop-shadow(0px 1px 2px rgba(0, 0, 0, 0.3));\n",
              "      fill: #FFFFFF;\n",
              "    }\n",
              "  </style>\n",
              "\n",
              "      <script>\n",
              "        const buttonEl =\n",
              "          document.querySelector('#df-acddeaef-e99b-45eb-b91b-ce7148f89396 button.colab-df-convert');\n",
              "        buttonEl.style.display =\n",
              "          google.colab.kernel.accessAllowed ? 'block' : 'none';\n",
              "\n",
              "        async function convertToInteractive(key) {\n",
              "          const element = document.querySelector('#df-acddeaef-e99b-45eb-b91b-ce7148f89396');\n",
              "          const dataTable =\n",
              "            await google.colab.kernel.invokeFunction('convertToInteractive',\n",
              "                                                     [key], {});\n",
              "          if (!dataTable) return;\n",
              "\n",
              "          const docLinkHtml = 'Like what you see? Visit the ' +\n",
              "            '<a target=\"_blank\" href=https://colab.research.google.com/notebooks/data_table.ipynb>data table notebook</a>'\n",
              "            + ' to learn more about interactive tables.';\n",
              "          element.innerHTML = '';\n",
              "          dataTable['output_type'] = 'display_data';\n",
              "          await google.colab.output.renderOutput(dataTable, element);\n",
              "          const docLink = document.createElement('div');\n",
              "          docLink.innerHTML = docLinkHtml;\n",
              "          element.appendChild(docLink);\n",
              "        }\n",
              "      </script>\n",
              "    </div>\n",
              "  </div>\n",
              "  "
            ]
          },
          "metadata": {},
          "execution_count": 177
        }
      ]
    },
    {
      "cell_type": "markdown",
      "source": [
        "Los países con menor proporción de muertes son Panama, Eswatini, Suriname, Santo Tome y Príncipe y Armenia"
      ],
      "metadata": {
        "id": "CLAaM26kDSa3"
      }
    },
    {
      "cell_type": "markdown",
      "source": [
        "5.\t¿En qué países había mayor tasa de tratamiento en 2020?"
      ],
      "metadata": {
        "id": "DQEUSplv0MoE"
      }
    },
    {
      "cell_type": "markdown",
      "source": [
        "Filtramos los datos del 2020, manteniendo las columnas de pais y tasa de tratamiento"
      ],
      "metadata": {
        "id": "ClUQXMaW0yLE"
      }
    },
    {
      "cell_type": "code",
      "source": [
        "treated =  df[df[\"year\"] == 2020][[\"country\", \"treated_rate\"]]\n",
        "treated = treated.set_index(\"country\", drop=True)"
      ],
      "metadata": {
        "id": "mI0lTdxY0yLF"
      },
      "execution_count": null,
      "outputs": []
    },
    {
      "cell_type": "markdown",
      "source": [
        "Ordenamos los datos de forma descendente"
      ],
      "metadata": {
        "id": "O_yOa5xW0yLF"
      }
    },
    {
      "cell_type": "code",
      "source": [
        "treated = treated.sort_values(\"treated_rate\", ascending=False)"
      ],
      "metadata": {
        "id": "sPoxbd2y0yLF"
      },
      "execution_count": null,
      "outputs": []
    },
    {
      "cell_type": "markdown",
      "source": [
        "Identificamos el top de 5 países con mayor tasa de tratamiento"
      ],
      "metadata": {
        "id": "xbdr4DDw0yLF"
      }
    },
    {
      "cell_type": "code",
      "source": [
        "treated.iloc[0:5, :]"
      ],
      "metadata": {
        "colab": {
          "base_uri": "https://localhost:8080/",
          "height": 238
        },
        "outputId": "5be9b14c-4bd5-40b7-8a7c-0fdb302e2b28",
        "id": "A3UcM_xr0yLF"
      },
      "execution_count": null,
      "outputs": [
        {
          "output_type": "execute_result",
          "data": {
            "text/plain": [
              "         treated_rate\n",
              "country              \n",
              "ZAF            248.46\n",
              "UGA            201.81\n",
              "SDN            142.53\n",
              "BRA            118.50\n",
              "COL            106.14"
            ],
            "text/html": [
              "\n",
              "  <div id=\"df-d48bbcbd-4037-44b5-a5c1-0a5475921810\">\n",
              "    <div class=\"colab-df-container\">\n",
              "      <div>\n",
              "<style scoped>\n",
              "    .dataframe tbody tr th:only-of-type {\n",
              "        vertical-align: middle;\n",
              "    }\n",
              "\n",
              "    .dataframe tbody tr th {\n",
              "        vertical-align: top;\n",
              "    }\n",
              "\n",
              "    .dataframe thead th {\n",
              "        text-align: right;\n",
              "    }\n",
              "</style>\n",
              "<table border=\"1\" class=\"dataframe\">\n",
              "  <thead>\n",
              "    <tr style=\"text-align: right;\">\n",
              "      <th></th>\n",
              "      <th>treated_rate</th>\n",
              "    </tr>\n",
              "    <tr>\n",
              "      <th>country</th>\n",
              "      <th></th>\n",
              "    </tr>\n",
              "  </thead>\n",
              "  <tbody>\n",
              "    <tr>\n",
              "      <th>ZAF</th>\n",
              "      <td>248.46</td>\n",
              "    </tr>\n",
              "    <tr>\n",
              "      <th>UGA</th>\n",
              "      <td>201.81</td>\n",
              "    </tr>\n",
              "    <tr>\n",
              "      <th>SDN</th>\n",
              "      <td>142.53</td>\n",
              "    </tr>\n",
              "    <tr>\n",
              "      <th>BRA</th>\n",
              "      <td>118.50</td>\n",
              "    </tr>\n",
              "    <tr>\n",
              "      <th>COL</th>\n",
              "      <td>106.14</td>\n",
              "    </tr>\n",
              "  </tbody>\n",
              "</table>\n",
              "</div>\n",
              "      <button class=\"colab-df-convert\" onclick=\"convertToInteractive('df-d48bbcbd-4037-44b5-a5c1-0a5475921810')\"\n",
              "              title=\"Convert this dataframe to an interactive table.\"\n",
              "              style=\"display:none;\">\n",
              "        \n",
              "  <svg xmlns=\"http://www.w3.org/2000/svg\" height=\"24px\"viewBox=\"0 0 24 24\"\n",
              "       width=\"24px\">\n",
              "    <path d=\"M0 0h24v24H0V0z\" fill=\"none\"/>\n",
              "    <path d=\"M18.56 5.44l.94 2.06.94-2.06 2.06-.94-2.06-.94-.94-2.06-.94 2.06-2.06.94zm-11 1L8.5 8.5l.94-2.06 2.06-.94-2.06-.94L8.5 2.5l-.94 2.06-2.06.94zm10 10l.94 2.06.94-2.06 2.06-.94-2.06-.94-.94-2.06-.94 2.06-2.06.94z\"/><path d=\"M17.41 7.96l-1.37-1.37c-.4-.4-.92-.59-1.43-.59-.52 0-1.04.2-1.43.59L10.3 9.45l-7.72 7.72c-.78.78-.78 2.05 0 2.83L4 21.41c.39.39.9.59 1.41.59.51 0 1.02-.2 1.41-.59l7.78-7.78 2.81-2.81c.8-.78.8-2.07 0-2.86zM5.41 20L4 18.59l7.72-7.72 1.47 1.35L5.41 20z\"/>\n",
              "  </svg>\n",
              "      </button>\n",
              "      \n",
              "  <style>\n",
              "    .colab-df-container {\n",
              "      display:flex;\n",
              "      flex-wrap:wrap;\n",
              "      gap: 12px;\n",
              "    }\n",
              "\n",
              "    .colab-df-convert {\n",
              "      background-color: #E8F0FE;\n",
              "      border: none;\n",
              "      border-radius: 50%;\n",
              "      cursor: pointer;\n",
              "      display: none;\n",
              "      fill: #1967D2;\n",
              "      height: 32px;\n",
              "      padding: 0 0 0 0;\n",
              "      width: 32px;\n",
              "    }\n",
              "\n",
              "    .colab-df-convert:hover {\n",
              "      background-color: #E2EBFA;\n",
              "      box-shadow: 0px 1px 2px rgba(60, 64, 67, 0.3), 0px 1px 3px 1px rgba(60, 64, 67, 0.15);\n",
              "      fill: #174EA6;\n",
              "    }\n",
              "\n",
              "    [theme=dark] .colab-df-convert {\n",
              "      background-color: #3B4455;\n",
              "      fill: #D2E3FC;\n",
              "    }\n",
              "\n",
              "    [theme=dark] .colab-df-convert:hover {\n",
              "      background-color: #434B5C;\n",
              "      box-shadow: 0px 1px 3px 1px rgba(0, 0, 0, 0.15);\n",
              "      filter: drop-shadow(0px 1px 2px rgba(0, 0, 0, 0.3));\n",
              "      fill: #FFFFFF;\n",
              "    }\n",
              "  </style>\n",
              "\n",
              "      <script>\n",
              "        const buttonEl =\n",
              "          document.querySelector('#df-d48bbcbd-4037-44b5-a5c1-0a5475921810 button.colab-df-convert');\n",
              "        buttonEl.style.display =\n",
              "          google.colab.kernel.accessAllowed ? 'block' : 'none';\n",
              "\n",
              "        async function convertToInteractive(key) {\n",
              "          const element = document.querySelector('#df-d48bbcbd-4037-44b5-a5c1-0a5475921810');\n",
              "          const dataTable =\n",
              "            await google.colab.kernel.invokeFunction('convertToInteractive',\n",
              "                                                     [key], {});\n",
              "          if (!dataTable) return;\n",
              "\n",
              "          const docLinkHtml = 'Like what you see? Visit the ' +\n",
              "            '<a target=\"_blank\" href=https://colab.research.google.com/notebooks/data_table.ipynb>data table notebook</a>'\n",
              "            + ' to learn more about interactive tables.';\n",
              "          element.innerHTML = '';\n",
              "          dataTable['output_type'] = 'display_data';\n",
              "          await google.colab.output.renderOutput(dataTable, element);\n",
              "          const docLink = document.createElement('div');\n",
              "          docLink.innerHTML = docLinkHtml;\n",
              "          element.appendChild(docLink);\n",
              "        }\n",
              "      </script>\n",
              "    </div>\n",
              "  </div>\n",
              "  "
            ]
          },
          "metadata": {},
          "execution_count": 180
        }
      ]
    },
    {
      "cell_type": "markdown",
      "source": [
        "Los países con mayor tasa de tratamiento en 2020 eran Sudáfrica, Uganda, Sudán, Brasil y Colombia. Puede resaltar que la tasa de tratamiento es mayor al 100%, pero esto es posible ya que se obtiene la proporción al considerar solo los casos reportados durante el año mientras que puede que se atiendan casos de años anteriores también."
      ],
      "metadata": {
        "id": "AbVmPIRODhSS"
      }
    },
    {
      "cell_type": "markdown",
      "source": [
        "6.- ¿En qué países había menor tasa de tratamiento en 2020?"
      ],
      "metadata": {
        "id": "C87PVZnK4UYK"
      }
    },
    {
      "cell_type": "markdown",
      "source": [
        "Identificamos el top de 5 países con menor tasa de tratamiento"
      ],
      "metadata": {
        "id": "ILNIZFQn5Msq"
      }
    },
    {
      "cell_type": "code",
      "source": [
        "treated = treated.sort_values(\"treated_rate\", ascending=True)\n",
        "treated.iloc[0:5, :]"
      ],
      "metadata": {
        "colab": {
          "base_uri": "https://localhost:8080/",
          "height": 238
        },
        "id": "D45lVYXD5QJ5",
        "outputId": "900c9ee4-4d96-4cde-958b-0e450b72d683"
      },
      "execution_count": null,
      "outputs": [
        {
          "output_type": "execute_result",
          "data": {
            "text/plain": [
              "         treated_rate\n",
              "country              \n",
              "LKA              0.00\n",
              "ARM              0.00\n",
              "UZB              0.00\n",
              "MRT              0.53\n",
              "GUY             16.49"
            ],
            "text/html": [
              "\n",
              "  <div id=\"df-1b3aaa1a-cf46-48ee-838d-b5f4547c2e91\">\n",
              "    <div class=\"colab-df-container\">\n",
              "      <div>\n",
              "<style scoped>\n",
              "    .dataframe tbody tr th:only-of-type {\n",
              "        vertical-align: middle;\n",
              "    }\n",
              "\n",
              "    .dataframe tbody tr th {\n",
              "        vertical-align: top;\n",
              "    }\n",
              "\n",
              "    .dataframe thead th {\n",
              "        text-align: right;\n",
              "    }\n",
              "</style>\n",
              "<table border=\"1\" class=\"dataframe\">\n",
              "  <thead>\n",
              "    <tr style=\"text-align: right;\">\n",
              "      <th></th>\n",
              "      <th>treated_rate</th>\n",
              "    </tr>\n",
              "    <tr>\n",
              "      <th>country</th>\n",
              "      <th></th>\n",
              "    </tr>\n",
              "  </thead>\n",
              "  <tbody>\n",
              "    <tr>\n",
              "      <th>LKA</th>\n",
              "      <td>0.00</td>\n",
              "    </tr>\n",
              "    <tr>\n",
              "      <th>ARM</th>\n",
              "      <td>0.00</td>\n",
              "    </tr>\n",
              "    <tr>\n",
              "      <th>UZB</th>\n",
              "      <td>0.00</td>\n",
              "    </tr>\n",
              "    <tr>\n",
              "      <th>MRT</th>\n",
              "      <td>0.53</td>\n",
              "    </tr>\n",
              "    <tr>\n",
              "      <th>GUY</th>\n",
              "      <td>16.49</td>\n",
              "    </tr>\n",
              "  </tbody>\n",
              "</table>\n",
              "</div>\n",
              "      <button class=\"colab-df-convert\" onclick=\"convertToInteractive('df-1b3aaa1a-cf46-48ee-838d-b5f4547c2e91')\"\n",
              "              title=\"Convert this dataframe to an interactive table.\"\n",
              "              style=\"display:none;\">\n",
              "        \n",
              "  <svg xmlns=\"http://www.w3.org/2000/svg\" height=\"24px\"viewBox=\"0 0 24 24\"\n",
              "       width=\"24px\">\n",
              "    <path d=\"M0 0h24v24H0V0z\" fill=\"none\"/>\n",
              "    <path d=\"M18.56 5.44l.94 2.06.94-2.06 2.06-.94-2.06-.94-.94-2.06-.94 2.06-2.06.94zm-11 1L8.5 8.5l.94-2.06 2.06-.94-2.06-.94L8.5 2.5l-.94 2.06-2.06.94zm10 10l.94 2.06.94-2.06 2.06-.94-2.06-.94-.94-2.06-.94 2.06-2.06.94z\"/><path d=\"M17.41 7.96l-1.37-1.37c-.4-.4-.92-.59-1.43-.59-.52 0-1.04.2-1.43.59L10.3 9.45l-7.72 7.72c-.78.78-.78 2.05 0 2.83L4 21.41c.39.39.9.59 1.41.59.51 0 1.02-.2 1.41-.59l7.78-7.78 2.81-2.81c.8-.78.8-2.07 0-2.86zM5.41 20L4 18.59l7.72-7.72 1.47 1.35L5.41 20z\"/>\n",
              "  </svg>\n",
              "      </button>\n",
              "      \n",
              "  <style>\n",
              "    .colab-df-container {\n",
              "      display:flex;\n",
              "      flex-wrap:wrap;\n",
              "      gap: 12px;\n",
              "    }\n",
              "\n",
              "    .colab-df-convert {\n",
              "      background-color: #E8F0FE;\n",
              "      border: none;\n",
              "      border-radius: 50%;\n",
              "      cursor: pointer;\n",
              "      display: none;\n",
              "      fill: #1967D2;\n",
              "      height: 32px;\n",
              "      padding: 0 0 0 0;\n",
              "      width: 32px;\n",
              "    }\n",
              "\n",
              "    .colab-df-convert:hover {\n",
              "      background-color: #E2EBFA;\n",
              "      box-shadow: 0px 1px 2px rgba(60, 64, 67, 0.3), 0px 1px 3px 1px rgba(60, 64, 67, 0.15);\n",
              "      fill: #174EA6;\n",
              "    }\n",
              "\n",
              "    [theme=dark] .colab-df-convert {\n",
              "      background-color: #3B4455;\n",
              "      fill: #D2E3FC;\n",
              "    }\n",
              "\n",
              "    [theme=dark] .colab-df-convert:hover {\n",
              "      background-color: #434B5C;\n",
              "      box-shadow: 0px 1px 3px 1px rgba(0, 0, 0, 0.15);\n",
              "      filter: drop-shadow(0px 1px 2px rgba(0, 0, 0, 0.3));\n",
              "      fill: #FFFFFF;\n",
              "    }\n",
              "  </style>\n",
              "\n",
              "      <script>\n",
              "        const buttonEl =\n",
              "          document.querySelector('#df-1b3aaa1a-cf46-48ee-838d-b5f4547c2e91 button.colab-df-convert');\n",
              "        buttonEl.style.display =\n",
              "          google.colab.kernel.accessAllowed ? 'block' : 'none';\n",
              "\n",
              "        async function convertToInteractive(key) {\n",
              "          const element = document.querySelector('#df-1b3aaa1a-cf46-48ee-838d-b5f4547c2e91');\n",
              "          const dataTable =\n",
              "            await google.colab.kernel.invokeFunction('convertToInteractive',\n",
              "                                                     [key], {});\n",
              "          if (!dataTable) return;\n",
              "\n",
              "          const docLinkHtml = 'Like what you see? Visit the ' +\n",
              "            '<a target=\"_blank\" href=https://colab.research.google.com/notebooks/data_table.ipynb>data table notebook</a>'\n",
              "            + ' to learn more about interactive tables.';\n",
              "          element.innerHTML = '';\n",
              "          dataTable['output_type'] = 'display_data';\n",
              "          await google.colab.output.renderOutput(dataTable, element);\n",
              "          const docLink = document.createElement('div');\n",
              "          docLink.innerHTML = docLinkHtml;\n",
              "          element.appendChild(docLink);\n",
              "        }\n",
              "      </script>\n",
              "    </div>\n",
              "  </div>\n",
              "  "
            ]
          },
          "metadata": {},
          "execution_count": 181
        }
      ]
    },
    {
      "cell_type": "markdown",
      "source": [
        "Los países con menor tasa de tratamiento en 2020 eran Sri Lanka, Armenia, Uzbekistán, Mauritania y Guyana"
      ],
      "metadata": {
        "id": "XyToy5593Y_Z"
      }
    },
    {
      "cell_type": "markdown",
      "source": [
        "7.\t¿En qué países ha aumentado el número de tratamientos del 2018 al 2020?"
      ],
      "metadata": {
        "id": "meQzUL_Z5sGT"
      }
    },
    {
      "cell_type": "markdown",
      "source": [
        "Seleccionamos los datos de casos tratados del 2018 y 2020"
      ],
      "metadata": {
        "id": "IGh8LTxH806X"
      }
    },
    {
      "cell_type": "code",
      "source": [
        "data_2018 = df[df[\"year\"] == 2018][[\"country\", \"treated_cases\"]]\n",
        "data_2020 = df[df[\"year\"] == 2020][[\"country\", \"treated_cases\"]]"
      ],
      "metadata": {
        "id": "-BUkp7PS9AeV"
      },
      "execution_count": null,
      "outputs": []
    },
    {
      "cell_type": "markdown",
      "source": [
        "Combinamos los datos en un solo dataframe y agregamos una columna de diferencia entre 2020 y 2018"
      ],
      "metadata": {
        "id": "VaOgagL59FRU"
      }
    },
    {
      "cell_type": "code",
      "source": [
        "data_2018 = data_2018.rename({\"treated_cases\": \"2018\"}, axis=1)\n",
        "data_2020 = data_2020.rename({\"treated_cases\": \"2020\"}, axis=1)\n",
        "data = pd.merge(data_2018, data_2020, on=\"country\")\n",
        "data[\"diff\"] = data[\"2020\"] - data[\"2018\"]"
      ],
      "metadata": {
        "id": "oJUdRkSk6N2F"
      },
      "execution_count": null,
      "outputs": []
    },
    {
      "cell_type": "markdown",
      "source": [
        "Se muestra la lista de países para los que ha aumentado la cantidad de tratamientos"
      ],
      "metadata": {
        "id": "iM4dCBwY9PKs"
      }
    },
    {
      "cell_type": "code",
      "source": [
        "increased = data[data[\"diff\"] > 0]\n",
        "list(increased[\"country\"])"
      ],
      "metadata": {
        "colab": {
          "base_uri": "https://localhost:8080/"
        },
        "id": "PAwBxmg39PdM",
        "outputId": "8675d3c3-9c55-4680-a993-7d92c10f193b"
      },
      "execution_count": null,
      "outputs": [
        {
          "output_type": "execute_result",
          "data": {
            "text/plain": [
              "['AFG',\n",
              " 'BEN',\n",
              " 'BOL',\n",
              " 'BRA',\n",
              " 'BWA',\n",
              " 'CAF',\n",
              " 'CHN',\n",
              " 'CMR',\n",
              " 'COD',\n",
              " 'COG',\n",
              " 'COL',\n",
              " 'CPV',\n",
              " 'CRI',\n",
              " 'DJI',\n",
              " 'DOM',\n",
              " 'DZA',\n",
              " 'ECU',\n",
              " 'ERI',\n",
              " 'ETH',\n",
              " 'GHA',\n",
              " 'GIN',\n",
              " 'HND',\n",
              " 'HTI',\n",
              " 'IDN',\n",
              " 'IND',\n",
              " 'IRN',\n",
              " 'KOR',\n",
              " 'MEX',\n",
              " 'MLI',\n",
              " 'MOZ',\n",
              " 'MYS',\n",
              " 'NGA',\n",
              " 'NIC',\n",
              " 'PAK',\n",
              " 'PAN',\n",
              " 'PER',\n",
              " 'PHL',\n",
              " 'PNG',\n",
              " 'PRK',\n",
              " 'RWA',\n",
              " 'SAU',\n",
              " 'SDN',\n",
              " 'SLB',\n",
              " 'SSD',\n",
              " 'TLS',\n",
              " 'UGA',\n",
              " 'ZAF',\n",
              " 'ZWE']"
            ]
          },
          "metadata": {},
          "execution_count": 184
        }
      ]
    },
    {
      "cell_type": "markdown",
      "source": [
        "Los países donde ha aumentado la cantidad de tratamientos son 'AFG','BEN','BOL','BRA','BWA','CAF','CHN','CMR','COD','COG','COL','CPV','CRI','DJI','DOM','DZA','ECU','ERI','ETH','GHA','GIN','HND','HTI','IDN','IND','IRN','KOR','MEX','MLI','MOZ','MYS','NGA','NIC','PAK','PAN','PER','PHL','PNG','PRK','RWA','SAU','SDN','SLB','SSD','TLS','UGA','ZAF','ZWE'"
      ],
      "metadata": {
        "id": "ZFRP3Zmm99EC"
      }
    },
    {
      "cell_type": "markdown",
      "source": [
        "8. ¿En qué países ha disminuido el número de tratamientos del 2018 al 2020?"
      ],
      "metadata": {
        "id": "neINKCes9dWl"
      }
    },
    {
      "cell_type": "markdown",
      "source": [
        "Se muestra la lista de países donde ha disminuido la cantidad de tratamientos"
      ],
      "metadata": {
        "id": "REMqnGyIFBPT"
      }
    },
    {
      "cell_type": "code",
      "source": [
        "decreased = data[data[\"diff\"] < 0]\n",
        "list(decreased[\"country\"])"
      ],
      "metadata": {
        "colab": {
          "base_uri": "https://localhost:8080/"
        },
        "id": "TsWhS6DN9h76",
        "outputId": "d55e0fc5-5fdb-4fe4-d5d5-a97a4d72f1c7"
      },
      "execution_count": null,
      "outputs": [
        {
          "output_type": "execute_result",
          "data": {
            "text/plain": [
              "['AGO',\n",
              " 'BDI',\n",
              " 'BFA',\n",
              " 'BGD',\n",
              " 'GAB',\n",
              " 'GMB',\n",
              " 'GTM',\n",
              " 'GUY',\n",
              " 'KEN',\n",
              " 'KHM',\n",
              " 'LAO',\n",
              " 'MMR',\n",
              " 'MRT',\n",
              " 'NAM',\n",
              " 'NPL',\n",
              " 'SEN',\n",
              " 'SLE',\n",
              " 'STP',\n",
              " 'SUR',\n",
              " 'THA',\n",
              " 'TZA',\n",
              " 'VEN',\n",
              " 'VNM',\n",
              " 'VUT',\n",
              " 'ZMB']"
            ]
          },
          "metadata": {},
          "execution_count": 185
        }
      ]
    },
    {
      "cell_type": "markdown",
      "source": [
        "Los países donde ha disminuido el número de tratamientos son\n",
        "'AGO','BDI','BFA','BGD','GAB','GMB','GTM','GUY','KEN','KHM','LAO','MMR','MRT','NAM','NPL','SEN','SLE','STP','SUR','THA','TZA','VEN','VNM','VUT','ZMB'"
      ],
      "metadata": {
        "id": "d2Mkn8GJFFg6"
      }
    },
    {
      "cell_type": "markdown",
      "source": [
        "9.\t¿En qué países el número de casos ha disminuido a través de los años? \n"
      ],
      "metadata": {
        "id": "wY3JNEBH97Zi"
      }
    },
    {
      "cell_type": "markdown",
      "source": [
        "Seleccionamos los datos de casos del 2018 y 2020"
      ],
      "metadata": {
        "id": "VR1U3yMV-jBS"
      }
    },
    {
      "cell_type": "code",
      "source": [
        "data_2018 = df[df[\"year\"] == 2018][[\"country\", \"total_cases\"]]\n",
        "data_2020 = df[df[\"year\"] == 2020][[\"country\", \"total_cases\"]]"
      ],
      "metadata": {
        "id": "dUz5WJug-jBU"
      },
      "execution_count": null,
      "outputs": []
    },
    {
      "cell_type": "markdown",
      "source": [
        "Combinamos los datos en un solo dataframe y agregamos una columna de diferencia entre 2020 y 2018"
      ],
      "metadata": {
        "id": "aMiZ5KHY-jBW"
      }
    },
    {
      "cell_type": "code",
      "source": [
        "data_2018 = data_2018.rename({\"total_cases\": \"2018\"}, axis=1)\n",
        "data_2020 = data_2020.rename({\"total_cases\": \"2020\"}, axis=1)\n",
        "data = pd.merge(data_2018, data_2020, on=\"country\")\n",
        "data[\"diff\"] = data[\"2020\"] - data[\"2018\"]"
      ],
      "metadata": {
        "id": "nh2vry0--jBX"
      },
      "execution_count": null,
      "outputs": []
    },
    {
      "cell_type": "markdown",
      "source": [
        "Se muestra la lista de países para los que ha disminuido el número de casos"
      ],
      "metadata": {
        "id": "LOL5Zknp-jBX"
      }
    },
    {
      "cell_type": "code",
      "source": [
        "increased = data[data[\"diff\"] < 0]\n",
        "list(increased[\"country\"])"
      ],
      "metadata": {
        "colab": {
          "base_uri": "https://localhost:8080/"
        },
        "outputId": "0f53358b-e3ec-4e92-87f7-8f86e04ef1b8",
        "id": "t9DVbvli-jBY"
      },
      "execution_count": null,
      "outputs": [
        {
          "output_type": "execute_result",
          "data": {
            "text/plain": [
              "['AFG',\n",
              " 'ARM',\n",
              " 'BDI',\n",
              " 'BFA',\n",
              " 'BGD',\n",
              " 'BLZ',\n",
              " 'BRA',\n",
              " 'CHN',\n",
              " 'CMR',\n",
              " 'COG',\n",
              " 'CPV',\n",
              " 'GAB',\n",
              " 'GHA',\n",
              " 'GMB',\n",
              " 'GTM',\n",
              " 'IND',\n",
              " 'KEN',\n",
              " 'KHM',\n",
              " 'KOR',\n",
              " 'LAO',\n",
              " 'LKA',\n",
              " 'MEX',\n",
              " 'MMR',\n",
              " 'MRT',\n",
              " 'MYS',\n",
              " 'NAM',\n",
              " 'NPL',\n",
              " 'PAK',\n",
              " 'PER',\n",
              " 'PNG',\n",
              " 'PRK',\n",
              " 'RWA',\n",
              " 'SDN',\n",
              " 'SEN',\n",
              " 'SLE',\n",
              " 'SSD',\n",
              " 'STP',\n",
              " 'THA',\n",
              " 'TZA',\n",
              " 'VEN',\n",
              " 'VNM',\n",
              " 'VUT',\n",
              " 'ZAF']"
            ]
          },
          "metadata": {},
          "execution_count": 188
        }
      ]
    },
    {
      "cell_type": "markdown",
      "source": [
        "El número de casos ha disminuido en los siguientes países:\n",
        "'AFG','ARM','BDI','BFA','BGD','BLZ','BRA','CHN','CMR','COG','CPV','GAB','GHA','GMB','GTM','IND','KEN','KHM','KOR','LAO','LKA','MEX','MMR','MRT','MYS','NAM','NPL','PAK','PER','PNG','PRK','RWA','SDN','SEN','SLE','SSD','STP','THA','TZA','VEN','VNM','VUT','ZAF'"
      ],
      "metadata": {
        "id": "0g20k6nAFNZD"
      }
    },
    {
      "cell_type": "markdown",
      "source": [
        "10.\t¿En qué países el número de muertes ha disminuido a través de los años? \n"
      ],
      "metadata": {
        "id": "gdwxxbQj-7ot"
      }
    },
    {
      "cell_type": "markdown",
      "source": [
        "Seleccionamos los datos de casos del 2018 y 2020"
      ],
      "metadata": {
        "id": "P00h0_PA-7ou"
      }
    },
    {
      "cell_type": "code",
      "source": [
        "data_2018 = df[df[\"year\"] == 2018][[\"country\", \"estimated_deaths\"]]\n",
        "data_2020 = df[df[\"year\"] == 2020][[\"country\", \"estimated_deaths\"]]"
      ],
      "metadata": {
        "id": "pzAvj5q4-7ou"
      },
      "execution_count": null,
      "outputs": []
    },
    {
      "cell_type": "markdown",
      "source": [
        "Combinamos los datos en un solo dataframe y agregamos una columna de diferencia entre 2020 y 2018"
      ],
      "metadata": {
        "id": "TqLO1qga-7ov"
      }
    },
    {
      "cell_type": "code",
      "source": [
        "data_2018 = data_2018.rename({\"estimated_deaths\": \"2018\"}, axis=1)\n",
        "data_2020 = data_2020.rename({\"estimated_deaths\": \"2020\"}, axis=1)\n",
        "data = pd.merge(data_2018, data_2020, on=\"country\")\n",
        "data[\"diff\"] = data[\"2020\"] - data[\"2018\"]"
      ],
      "metadata": {
        "id": "_EjE0vJI-7ow"
      },
      "execution_count": null,
      "outputs": []
    },
    {
      "cell_type": "markdown",
      "source": [
        "Se muestra la lista de países para los que ha disminuido el número de muertes"
      ],
      "metadata": {
        "id": "ekwy_mYW-7ow"
      }
    },
    {
      "cell_type": "code",
      "source": [
        "increased = data[data[\"diff\"] < 0]\n",
        "list(increased[\"country\"])"
      ],
      "metadata": {
        "colab": {
          "base_uri": "https://localhost:8080/"
        },
        "outputId": "b43d7681-1bbd-43e4-dded-7d97988d88d1",
        "id": "R0U3V0eg-7ox"
      },
      "execution_count": null,
      "outputs": [
        {
          "output_type": "execute_result",
          "data": {
            "text/plain": [
              "['AFG',\n",
              " 'BGD',\n",
              " 'BRA',\n",
              " 'COL',\n",
              " 'GTM',\n",
              " 'GUY',\n",
              " 'IND',\n",
              " 'KHM',\n",
              " 'LAO',\n",
              " 'MMR',\n",
              " 'NAM',\n",
              " 'NIC',\n",
              " 'NPL',\n",
              " 'PAK',\n",
              " 'PER',\n",
              " 'THA',\n",
              " 'VEN',\n",
              " 'VNM',\n",
              " 'ZAF']"
            ]
          },
          "metadata": {},
          "execution_count": 191
        }
      ]
    },
    {
      "cell_type": "markdown",
      "source": [
        "Los países donde ha disminuido el número de muertes son:\n",
        "'AFG',\n",
        " 'BGD',\n",
        " 'BRA',\n",
        " 'COL',\n",
        " 'GTM',\n",
        " 'GUY',\n",
        " 'IND',\n",
        " 'KHM',\n",
        " 'LAO',\n",
        " 'MMR',\n",
        " 'NAM',\n",
        " 'NIC',\n",
        " 'NPL',\n",
        " 'PAK',\n",
        " 'PER',\n",
        " 'THA',\n",
        " 'VEN',\n",
        " 'VNM',\n",
        " 'ZAF'"
      ],
      "metadata": {
        "id": "-fFCYMtmFXN0"
      }
    },
    {
      "cell_type": "markdown",
      "source": [
        "##Conclusión"
      ],
      "metadata": {
        "id": "9CWANXOpDrL8"
      }
    },
    {
      "cell_type": "markdown",
      "source": [
        "Podemos observar que los países desfavorecidos corresponden en su mayoría a países africanos los cuales a su vez se encuentras en la categoría de países marginados según la ONU. Suponiendo una posible causalidad, esto es un factor alarmante pues indicaría que no solamente depende de condiciones ambientales para el favorecimiento de esta enfermedad, si no que el desarrollo económico fomenta su progreso y en países cuya taza de crecimiento económico es bajo (o incluso negativo) esto significa que la enfermedad es un potencial aspirante para causar una pandemia o una crisis de salud considerable y más considerando a la naturaleza de diagnóstico de esta. \n",
        "\n",
        "Podríamos crear una relación más fuerte de esta hipótesis creando gráficas comparando el crecimiento económico y el avance en casos y muertes. También, sería de mucha ayuda un mapa donde podemos ver más claramente si existe alguna concentración o cluster de casos, esto para determinar si existen factores extras no considerados como ciudades que se comportan como epicentros de los contagios. \n",
        "\n",
        "Nos gustaría analizar todos los factores que se ven envuelto en la evolución de la malaria a nivel mundial, y encontrar aquellos que mayor peso tienen en su pronóstico para crear un modelo que permita tomar decisiones sobre su manejo o posibles precauciones. \n",
        "\n",
        "Por último, nos gustaría crear algún modelo que facilite su diagnóstico. Nuestra investigación previa de la problemática indica, además de la espera de 10 a 15 días para su detección, que se requiere un equipo especializado además de un experto capaz de realizar el análisis de la sangre bajo un microscopio. Esto nos hizo pensar en que este tipo de diagnóstico resultaría perfecto para crear un modelo capaz de distinguir imágenes de un grupo de glóbulos rojos infectados de unos sanos. Esto abarataría considerablemente el costo y permitiría frenar el número de contagios. \n",
        "\n",
        "\n",
        "\n",
        "\n"
      ],
      "metadata": {
        "id": "6ENK7-QpDrL8"
      }
    }
  ]
}